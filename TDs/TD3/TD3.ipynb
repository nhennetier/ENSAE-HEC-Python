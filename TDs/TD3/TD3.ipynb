{
 "cells": [
  {
   "cell_type": "markdown",
   "metadata": {},
   "source": [
    "# TD3"
   ]
  },
  {
   "cell_type": "markdown",
   "metadata": {},
   "source": [
    "## Exercice 1: Counter\n",
    "\n",
    "Étant donné une liste de lettres, créez un dictionnaire dont les clefs sont les lettres présentes dans cette liste et les valeurs le nombre d'occurences des lettres associées."
   ]
  },
  {
   "cell_type": "code",
   "execution_count": 1,
   "metadata": {},
   "outputs": [],
   "source": [
    "list_letters = ['a', 'b', 'c', 'd', 'a', 'b', 'c', 'a', 'b', 'a', 'z']"
   ]
  },
  {
   "cell_type": "code",
   "execution_count": 2,
   "metadata": {},
   "outputs": [
    {
     "name": "stdout",
     "output_type": "stream",
     "text": [
      "None\n"
     ]
    }
   ],
   "source": [
    "def get_counter(liste):\n",
    "    pass\n",
    "\n",
    "\n",
    "counter = get_counter(list_letters)\n",
    "print(counter)"
   ]
  },
  {
   "cell_type": "markdown",
   "metadata": {},
   "source": [
    "## Exercice 2: Dictionnaire\n",
    "\n",
    "On donne une liste de noms."
   ]
  },
  {
   "cell_type": "code",
   "execution_count": 3,
   "metadata": {},
   "outputs": [],
   "source": [
    "names = ['eddard', 'catelyn', 'robb', 'sansa', 'arya', 'brandon',\n",
    "        'rickon', 'theon', 'rorbert', 'cersei', 'tywin', 'jaime',\n",
    "        'tyrion', 'shae', 'bronn', 'lancel', 'joffrey', 'sandor',\n",
    "        'varys', 'renly', 'a' ]"
   ]
  },
  {
   "cell_type": "markdown",
   "metadata": {},
   "source": [
    "Dans un premier temps, écrivez une fonction prenant en entrée une lettre et une position et renvoyant tous les mots qui ont la bonne lettre à la position donnée.\n",
    "\n",
    "Exemple:  \n",
    "`letter_position(names, 'y', 2)` renvoit `['tywiv', 'tyrion']`"
   ]
  },
  {
   "cell_type": "code",
   "execution_count": 4,
   "metadata": {},
   "outputs": [
    {
     "name": "stdout",
     "output_type": "stream",
     "text": [
      "None\n"
     ]
    }
   ],
   "source": [
    "def letter_position(names, letter, pos):\n",
    "    pass\n",
    "\n",
    "\n",
    "words = letter_position(names, 'y', 2)\n",
    "print(words)"
   ]
  },
  {
   "cell_type": "markdown",
   "metadata": {},
   "source": [
    "Cette fonction parcourt la liste chaque fois qu'elle est appelée. On voudrait construire un dictionnaire tel qu'un appel à cette fonction ne coute qu'une opération élémentaire.\n",
    "\n",
    "Construisez un dictionnaire tel que la fonction suivante fonctionnne:"
   ]
  },
  {
   "cell_type": "code",
   "execution_count": 5,
   "metadata": {},
   "outputs": [
    {
     "name": "stdout",
     "output_type": "stream",
     "text": [
      "[]\n"
     ]
    }
   ],
   "source": [
    "def letter_position(dic, letter, position):\n",
    "    return dic.get((letter, position), [])\n",
    "\n",
    "\n",
    "dic = {}\n",
    "words = letter_position(dic, 'y', 2)\n",
    "print(words)"
   ]
  },
  {
   "cell_type": "markdown",
   "metadata": {},
   "source": [
    "## Exercice 3: Cryptographie\n",
    "\n",
    "### Code de César\n",
    "\n",
    "Le code de César est l'un des chiffrements les plus simples qui existe. Il consiste à décaler toutes les lettres d'une chaine de caractères d'un certain nombre de lettres. Par exemple, `abc` avec un décalage de 3 donne `def`.\n",
    "\n",
    "Écrivez une fonction qui code un message selon un chiffrage de César, dont le décalage sera un argument de cette fonction, et une fonction qui décode un message.\n",
    "\n",
    "Les fonction `ord` et `chr` pourront vous aider. On suppose que le message est en minuscule, et qu'il n'y a pas de caractère spécial comme des accents."
   ]
  },
  {
   "cell_type": "code",
   "execution_count": 6,
   "metadata": {},
   "outputs": [
    {
     "name": "stdout",
     "output_type": "stream",
     "text": [
      "97 122 a z\n"
     ]
    }
   ],
   "source": [
    "print(ord('a'), ord('z'), chr(97), chr(122))"
   ]
  },
  {
   "cell_type": "code",
   "execution_count": 7,
   "metadata": {},
   "outputs": [],
   "source": [
    "def cryptage_cesar(message, dec):\n",
    "    pass\n",
    "\n",
    "\n",
    "def decrpytage_cesar(message, dec):\n",
    "    pass"
   ]
  },
  {
   "cell_type": "code",
   "execution_count": 8,
   "metadata": {},
   "outputs": [
    {
     "name": "stdout",
     "output_type": "stream",
     "text": [
      "None\n",
      "False\n"
     ]
    }
   ],
   "source": [
    "message = 'jenesuispasuncode'\n",
    "code = cryptage_cesar(message, 10)\n",
    "print(code)\n",
    "decode = decrpytage_cesar(code, 10)\n",
    "print(message == decode)"
   ]
  },
  {
   "cell_type": "markdown",
   "metadata": {},
   "source": [
    "### Code de Vigenère\n",
    "\n",
    "Le code de Vigenère est un peu plus compliqué. Il ne prend pas en entrée un décalage, mais une clef. Cette clef est une chaine de caractères qui définit des décalages en fonction des caractères la composant.\n",
    "\n",
    "Par exemple, si la clef est 'abc', la premiere lettre du message est décalé de 1, la deuxieme de 2, la troisieme de 3 et on recommence: la quatrieme de 1, la cinquieme de 2, ...\n",
    "\n",
    "Écrivez la fonction `cryptage_vigenere`."
   ]
  },
  {
   "cell_type": "code",
   "execution_count": 9,
   "metadata": {},
   "outputs": [],
   "source": [
    "def cryptage_vigenere(message, clef):\n",
    "    pass"
   ]
  },
  {
   "cell_type": "code",
   "execution_count": 10,
   "metadata": {},
   "outputs": [
    {
     "name": "stdout",
     "output_type": "stream",
     "text": [
      "False\n"
     ]
    }
   ],
   "source": [
    "message = 'jenesuispasuncode'\n",
    "code = cryptage_vigenere(message, 'clef')\n",
    "print(code == 'mqskvgnysmxaqotjh')"
   ]
  },
  {
   "cell_type": "markdown",
   "metadata": {},
   "source": [
    "## Exercice 4: recherche dichotomique\n",
    "\n",
    "On vous donne une liste d'entiers triée. Recherchez de manière optimale si un entier est dans cette liste ou non.\n",
    "\n",
    "Indice: `in` n'est pas optimal dans ce cas. En effet, on peut ne pas tester tous les éléments de la liste, en commencant par le milieu par exemple !"
   ]
  },
  {
   "cell_type": "code",
   "execution_count": 11,
   "metadata": {},
   "outputs": [],
   "source": [
    "def dichotomie(l, n):\n",
    "    pass"
   ]
  },
  {
   "cell_type": "code",
   "execution_count": 12,
   "metadata": {},
   "outputs": [
    {
     "name": "stdout",
     "output_type": "stream",
     "text": [
      "None\n",
      "None\n",
      "None\n",
      "None\n",
      "None\n"
     ]
    }
   ],
   "source": [
    "l = list(range(15))\n",
    "print(dichotomie(l, 5))\n",
    "print(dichotomie(l, 15))\n",
    "print(dichotomie(l, 0))\n",
    "print(dichotomie(l, 14))\n",
    "print(dichotomie(l, -5))"
   ]
  },
  {
   "cell_type": "markdown",
   "metadata": {},
   "source": [
    "## Exercice 5: divide and conquer\n",
    "\n",
    "Certaines fonctions peuvent s'appeler elles-même. Ce sont des fonctions récursives. Nous allons voir deux exemples de fonctions récursives pour trier une liste.\n",
    "\n",
    "1. Écrivez une fonction qui:\n",
    "    - à une liste vide, renvoie une liste vide\n",
    "    - à une liste de longueur 1, renvoie cette liste\n",
    "    - à une liste non vide, prend le premier élément de cette liste, sépare le reste de la liste en les éléments plus petits que cette valeur et ceux plus grands, trie ces deux sous listes par un appel récursif, et rassemble les résultats.\n"
   ]
  },
  {
   "cell_type": "code",
   "execution_count": 13,
   "metadata": {},
   "outputs": [],
   "source": [
    "def quick_sort(l):\n",
    "    pass"
   ]
  },
  {
   "cell_type": "code",
   "execution_count": 14,
   "metadata": {},
   "outputs": [
    {
     "name": "stdout",
     "output_type": "stream",
     "text": [
      "[23, 55, 66, 61, 41, 45, 53, 11, 16, 71, 100, 9, 91, 38, 36, 20, 62, 59, 42, 53]\n",
      "None\n"
     ]
    }
   ],
   "source": [
    "import random\n",
    "\n",
    "l = [random.randint(0, 100) for _ in range(20)]\n",
    "print(l)\n",
    "print(quick_sort(l))"
   ]
  },
  {
   "cell_type": "markdown",
   "metadata": {},
   "source": [
    "2. Dans un second temps, écrivez une fonction qui:\n",
    "    - à une liste vide revoie une liste vide\n",
    "    - à une liste de longueur 1, renvoie cette liste\n",
    "    - à une liste non vide sépare, la liste en deux au milieu, trie les deux sous listes par un appel récursif, et rassemble les résultats.\n",
    "\n",
    "Attention, le rassemblement n'est pas trivial !"
   ]
  },
  {
   "cell_type": "code",
   "execution_count": 15,
   "metadata": {},
   "outputs": [],
   "source": [
    "def merge_sort(l):\n",
    "    pass"
   ]
  },
  {
   "cell_type": "code",
   "execution_count": 16,
   "metadata": {},
   "outputs": [
    {
     "name": "stdout",
     "output_type": "stream",
     "text": [
      "[81, 84, 61, 100, 96, 39, 10, 96, 81, 24, 80, 20, 88, 19, 99, 58, 30, 70, 30, 71]\n",
      "None\n"
     ]
    }
   ],
   "source": [
    "import random\n",
    "\n",
    "l = [random.randint(0, 100) for _ in range(20)]\n",
    "print(l)\n",
    "print(merge_sort(l))"
   ]
  },
  {
   "cell_type": "markdown",
   "metadata": {},
   "source": [
    "## Exercice 6: Read the Doc\n",
    "\n",
    "Le but de cette exercice est de vous familiariser avec la documentation des packages.\n",
    "\n",
    "Nous voulons écrire trois fonctions. La première aura comme argument une liste de 2-uples, et devra afficher les points sur un graphique. Vous allez avoir besoin du package matplotlib, et plus précisément pyplot de matplotlib."
   ]
  },
  {
   "cell_type": "code",
   "execution_count": 17,
   "metadata": {},
   "outputs": [],
   "source": [
    "def plot_points(points):\n",
    "    pass"
   ]
  },
  {
   "cell_type": "code",
   "execution_count": 18,
   "metadata": {},
   "outputs": [],
   "source": [
    "points = [(-1, -1), (-1, 1), (1, -1), (1, 1)]\n",
    "plot_points(points)"
   ]
  },
  {
   "cell_type": "markdown",
   "metadata": {},
   "source": [
    "Ensuite, nous voulons une fonction qui prend en argument `n`, qui crée une liste de `n` points tirés aléatoirement selon une loi uniforme dans le carré unitaire et qui l'affiche. Vous allez avoir besoin du package random."
   ]
  },
  {
   "cell_type": "code",
   "execution_count": 19,
   "metadata": {},
   "outputs": [],
   "source": [
    "def get_n_points_in_square(n):\n",
    "    pass"
   ]
  },
  {
   "cell_type": "code",
   "execution_count": 20,
   "metadata": {},
   "outputs": [],
   "source": [
    "get_n_points_in_square(100)"
   ]
  },
  {
   "cell_type": "markdown",
   "metadata": {},
   "source": [
    "Enfin, même chose qu'avant mais dans le cercle unitaire."
   ]
  },
  {
   "cell_type": "code",
   "execution_count": 21,
   "metadata": {},
   "outputs": [],
   "source": [
    "def get_n_points_in_circle(n):\n",
    "    pass"
   ]
  },
  {
   "cell_type": "code",
   "execution_count": 22,
   "metadata": {},
   "outputs": [],
   "source": [
    "get_n_points_in_circle(2000)"
   ]
  },
  {
   "cell_type": "markdown",
   "metadata": {},
   "source": [
    "## Exercice 7: Mastermind\n",
    "\n",
    "Suite des exercices 8 et 9 du TD2.\n",
    "\n",
    "Faites une fonction qui va évaluer l'intelligence artificielle que vous avez créé. Pour cela:\n",
    "\n",
    "1. Modifier votre fonction pour qu'elle n'ai plus besoin d'input de l'utilisateur. Pour cela, mettez la réponse en argument, et checker automatiquement la réponse.\n",
    "\n",
    "2. Faites jouer votre IA sur 100 nombres aléatoires, et calculer le nombre de coups moyens pour trouver la solution.\n",
    "\n",
    "Attention, à la fin de cette exercice, vous devez pouvoir évaluer n'importe quelle IA en changeant simplement la fonction associée, sans toucher au code d'évaluation."
   ]
  },
  {
   "cell_type": "code",
   "execution_count": null,
   "metadata": {},
   "outputs": [],
   "source": []
  },
  {
   "cell_type": "code",
   "execution_count": null,
   "metadata": {},
   "outputs": [],
   "source": []
  },
  {
   "cell_type": "code",
   "execution_count": null,
   "metadata": {},
   "outputs": [],
   "source": []
  },
  {
   "cell_type": "code",
   "execution_count": null,
   "metadata": {},
   "outputs": [],
   "source": []
  },
  {
   "cell_type": "code",
   "execution_count": null,
   "metadata": {},
   "outputs": [],
   "source": []
  },
  {
   "cell_type": "markdown",
   "metadata": {},
   "source": [
    "# Solutions"
   ]
  },
  {
   "cell_type": "markdown",
   "metadata": {},
   "source": [
    "## Exercice 1"
   ]
  },
  {
   "cell_type": "code",
   "execution_count": 23,
   "metadata": {},
   "outputs": [
    {
     "name": "stdout",
     "output_type": "stream",
     "text": [
      "{'a': 4, 'b': 3, 'c': 2, 'd': 1, 'z': 1}\n"
     ]
    }
   ],
   "source": [
    "list_letters = ['a', 'b', 'c', 'd', 'a', 'b', 'c', 'a', 'b', 'a', 'z']\n",
    "\n",
    "#Solution 1\n",
    "counter = {}\n",
    "for letter in list_letters:\n",
    "    if letter not in counter:\n",
    "        counter[letter] = 0\n",
    "    counter[letter] += 1\n",
    "\n",
    "#Solution 2\n",
    "counter = {}\n",
    "for letter in list_letters:\n",
    "    counter[letter] = counter.get(letter, 0) + 1\n",
    "\n",
    "print(counter)"
   ]
  },
  {
   "cell_type": "markdown",
   "metadata": {},
   "source": [
    "## Exercice 2"
   ]
  },
  {
   "cell_type": "code",
   "execution_count": 24,
   "metadata": {},
   "outputs": [],
   "source": [
    "def letter_position(names, letter, pos):\n",
    "    result = []\n",
    "    for name in names:\n",
    "        if len(name) > pos and name[pos] == letter:\n",
    "            result.append(name)\n",
    "    return result"
   ]
  },
  {
   "cell_type": "code",
   "execution_count": 25,
   "metadata": {},
   "outputs": [],
   "source": [
    "def letter_position2(dic, letter, position):\n",
    "    return dic.get((letter, position), [])"
   ]
  },
  {
   "cell_type": "code",
   "execution_count": 26,
   "metadata": {},
   "outputs": [],
   "source": [
    "names = ['eddard', 'catelyn', 'robb', 'sansa', 'arya', 'brandon',\n",
    "        'rickon', 'theon', 'rorbert', 'cersei', 'tywin', 'jaime',\n",
    "        'tyrion', 'shae', 'bronn', 'lancel', 'joffrey', 'sandor',\n",
    "        'varys', 'renly', 'a' ]\n",
    "dic = {}\n",
    "for name in names:\n",
    "    for i, letter in enumerate(name):\n",
    "        dic[(letter, i)] = dic.get((letter, i), []) + [name]\n",
    "        # Ou alors\n",
    "        #if (letter, i) not in dic:\n",
    "        #    dic[(letter, i)] = []\n",
    "        #dic[(letter, i)].append(name)"
   ]
  },
  {
   "cell_type": "code",
   "execution_count": 27,
   "metadata": {},
   "outputs": [
    {
     "data": {
      "text/plain": [
       "(['catelyn', 'sansa', 'jaime', 'lancel', 'sandor', 'varys'],\n",
       " ['catelyn', 'sansa', 'jaime', 'lancel', 'sandor', 'varys'])"
      ]
     },
     "execution_count": 27,
     "metadata": {},
     "output_type": "execute_result"
    }
   ],
   "source": [
    "letter_position(names, 'a', 1), letter_position2(dic, 'a', 1)"
   ]
  },
  {
   "cell_type": "markdown",
   "metadata": {},
   "source": [
    "## Exercice 3"
   ]
  },
  {
   "cell_type": "code",
   "execution_count": 28,
   "metadata": {},
   "outputs": [],
   "source": [
    "def decal(letter, dec):\n",
    "    res = ord(letter) + dec\n",
    "    if res > 122:\n",
    "        res -= 26\n",
    "    if res < 97:\n",
    "        res += 26\n",
    "    return chr(res)\n",
    "\n",
    "def cryptage_cesar(message, dec):\n",
    "    return ''.join([decal(letter, dec) for letter in message])\n",
    "\n",
    "def decrpytage_cesar(message, dec):\n",
    "    return ''.join([decal(letter, -dec) for letter in message])"
   ]
  },
  {
   "cell_type": "code",
   "execution_count": 29,
   "metadata": {},
   "outputs": [
    {
     "name": "stdout",
     "output_type": "stream",
     "text": [
      "toxocesczkcexmyno\n",
      "True\n"
     ]
    }
   ],
   "source": [
    "message = 'jenesuispasuncode'\n",
    "code = cryptage_cesar(message, 10)\n",
    "print(code)\n",
    "print(message == decrpytage_cesar(code, 10))"
   ]
  },
  {
   "cell_type": "code",
   "execution_count": 30,
   "metadata": {},
   "outputs": [],
   "source": [
    "def cryptage_vigenere(message, clef):\n",
    "    s = ''\n",
    "    for i, letter in enumerate(message):\n",
    "        s += decal(letter, ord(clef[i % len(clef)]) - 97 + 1)\n",
    "    return s\n",
    "\n",
    "# Ou en une ligne\n",
    "def cryptage_vigenere(message, clef):\n",
    "    return ''.join([decal(letter, ord(clef[i % len(clef)]) - 97 + 1) for i, letter in enumerate(message)])"
   ]
  },
  {
   "cell_type": "code",
   "execution_count": 31,
   "metadata": {},
   "outputs": [
    {
     "name": "stdout",
     "output_type": "stream",
     "text": [
      "mqskvgnysmxaqotjh\n"
     ]
    }
   ],
   "source": [
    "message = 'jenesuispasuncode'\n",
    "code = cryptage_vigenere(message, 'clef')\n",
    "print(code)"
   ]
  },
  {
   "cell_type": "markdown",
   "metadata": {},
   "source": [
    "## Exercice 4"
   ]
  },
  {
   "cell_type": "code",
   "execution_count": 32,
   "metadata": {},
   "outputs": [],
   "source": [
    "def dichotomie(l, n):\n",
    "    start = 0\n",
    "    end = len(l) - 1\n",
    "    while start <= end:\n",
    "        mid = (end + start) // 2\n",
    "        if l[mid] == n:\n",
    "            return True\n",
    "        elif l[mid] > n:\n",
    "            end = mid - 1\n",
    "        else:\n",
    "            start = mid + 1\n",
    "    return False"
   ]
  },
  {
   "cell_type": "code",
   "execution_count": 33,
   "metadata": {},
   "outputs": [
    {
     "name": "stdout",
     "output_type": "stream",
     "text": [
      "True\n",
      "False\n",
      "True\n",
      "True\n",
      "False\n"
     ]
    }
   ],
   "source": [
    "l = list(range(15))\n",
    "print(dichotomie(l, 5))\n",
    "print(dichotomie(l, 15))\n",
    "print(dichotomie(l, 0))\n",
    "print(dichotomie(l, 14))\n",
    "print(dichotomie(l, -5))"
   ]
  },
  {
   "cell_type": "markdown",
   "metadata": {},
   "source": [
    "## Exercice 5"
   ]
  },
  {
   "cell_type": "code",
   "execution_count": 34,
   "metadata": {},
   "outputs": [],
   "source": [
    "def quicksort(l):\n",
    "    if len(l) < 2:\n",
    "        return l\n",
    "    smaller, bigger = [], []\n",
    "    pivot = l[0]\n",
    "    for elem in l[1:]:\n",
    "        if elem < pivot:\n",
    "            smaller.append(elem)\n",
    "        else:\n",
    "            bigger.append(elem)\n",
    "    return quicksort(smaller) + [pivot] + quicksort(bigger)"
   ]
  },
  {
   "cell_type": "code",
   "execution_count": 35,
   "metadata": {},
   "outputs": [
    {
     "name": "stdout",
     "output_type": "stream",
     "text": [
      "[54, 52, 47, 91, 84, 48, 41, 48, 34, 48, 32, 1, 98, 81, 36, 33, 90, 60, 10, 46]\n",
      "[1, 10, 32, 33, 34, 36, 41, 46, 47, 48, 48, 48, 52, 54, 60, 81, 84, 90, 91, 98]\n"
     ]
    }
   ],
   "source": [
    "import random\n",
    "\n",
    "l = [random.randint(0, 100) for _ in range(20)]\n",
    "print(l)\n",
    "print(quicksort(l))"
   ]
  },
  {
   "cell_type": "code",
   "execution_count": 36,
   "metadata": {},
   "outputs": [],
   "source": [
    "def merge(l1, l2):\n",
    "    result = []\n",
    "    i1, i2 = 0, 0\n",
    "    while i1 < len(l1) and i2 < len(l2):\n",
    "        if l1[i1] < l2[i2]:\n",
    "            result.append(l1[i1])\n",
    "            i1 += 1\n",
    "        else:\n",
    "            result.append(l2[i2])\n",
    "            i2 += 1\n",
    "    result += l1[i1:] + l2[i2:]\n",
    "    return result\n",
    "\n",
    "def merge_sort(l):\n",
    "    if len(l) < 2:\n",
    "        return l\n",
    "    mid = len(l) // 2\n",
    "    return merge(merge_sort(l[:mid]), merge_sort(l[mid:]))"
   ]
  },
  {
   "cell_type": "code",
   "execution_count": 37,
   "metadata": {},
   "outputs": [
    {
     "name": "stdout",
     "output_type": "stream",
     "text": [
      "[17, 42, 59, 2, 20, 83, 2, 100, 96, 1, 50, 95, 27, 72, 46, 54, 78, 43, 42, 37]\n",
      "[1, 2, 2, 17, 20, 27, 37, 42, 42, 43, 46, 50, 54, 59, 72, 78, 83, 95, 96, 100]\n"
     ]
    }
   ],
   "source": [
    "import random\n",
    "\n",
    "l = [random.randint(0, 100) for _ in range(20)]\n",
    "print(l)\n",
    "print(merge_sort(l))"
   ]
  },
  {
   "cell_type": "markdown",
   "metadata": {},
   "source": [
    "## Exercice 6"
   ]
  },
  {
   "cell_type": "code",
   "execution_count": 38,
   "metadata": {},
   "outputs": [],
   "source": [
    "from matplotlib import pyplot as plt\n",
    "\n",
    "def plot_points(points):\n",
    "    xs = [point[0] for point in points]\n",
    "    ys = [point[1] for point in points]\n",
    "    plt.scatter(xs, ys)\n",
    "    plt.show()"
   ]
  },
  {
   "cell_type": "code",
   "execution_count": 39,
   "metadata": {},
   "outputs": [
    {
     "data": {
      "image/png": "[encoded data removed]",
      "text/plain": [
       "<Figure size 432x288 with 1 Axes>"
      ]
     },
     "metadata": {
      "needs_background": "light"
     },
     "output_type": "display_data"
    }
   ],
   "source": [
    "points = [(-1, -1), (-1, 1), (1, -1), (1, 1)]\n",
    "plot_points(points)"
   ]
  },
  {
   "cell_type": "code",
   "execution_count": 40,
   "metadata": {},
   "outputs": [],
   "source": [
    "from random import randint\n",
    "\n",
    "\n",
    "def get_n_points_in_square(n):\n",
    "    points = [\n",
    "        (randint(-100, 100) / 100, randint(-100, 100) / 100)\n",
    "        for _ in range(n)\n",
    "    ]\n",
    "    plot_points(points)"
   ]
  },
  {
   "cell_type": "code",
   "execution_count": 41,
   "metadata": {},
   "outputs": [
    {
     "data": {
      "image/png": "[encoded data removed]",
      "text/plain": [
       "<Figure size 432x288 with 1 Axes>"
      ]
     },
     "metadata": {
      "needs_background": "light"
     },
     "output_type": "display_data"
    }
   ],
   "source": [
    "get_n_points_in_square(100)"
   ]
  },
  {
   "cell_type": "code",
   "execution_count": 42,
   "metadata": {},
   "outputs": [],
   "source": [
    "def get_n_points_in_circle(n):\n",
    "    points = []\n",
    "    while len(points) < n:\n",
    "        x = randint(-100, 100) / 100\n",
    "        y = randint(-100, 100) / 100\n",
    "        if x ** 2 + y ** 2 <= 1:\n",
    "            points.append((x, y))\n",
    "    plot_points(points)"
   ]
  },
  {
   "cell_type": "code",
   "execution_count": 43,
   "metadata": {},
   "outputs": [
    {
     "data": {
      "image/png": "[encoded data removed]",
      "text/plain": [
       "<Figure size 432x288 with 1 Axes>"
      ]
     },
     "metadata": {
      "needs_background": "light"
     },
     "output_type": "display_data"
    }
   ],
   "source": [
    "get_n_points_in_circle(2000)"
   ]
  }
 ],
 "metadata": {
  "kernelspec": {
   "display_name": "Python 3",
   "language": "python",
   "name": "python3"
  },
  "language_info": {
   "codemirror_mode": {
    "name": "ipython",
    "version": 3
   },
   "file_extension": ".py",
   "mimetype": "text/x-python",
   "name": "python",
   "nbconvert_exporter": "python",
   "pygments_lexer": "ipython3",
   "version": "3.8.6"
  }
 },
 "nbformat": 4,
 "nbformat_minor": 2
}
