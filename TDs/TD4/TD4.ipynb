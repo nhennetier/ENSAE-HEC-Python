{
 "cells": [
  {
   "cell_type": "markdown",
   "metadata": {},
   "source": [
    "# TD4"
   ]
  },
  {
   "cell_type": "markdown",
   "metadata": {},
   "source": [
    "## Exercice 1\n",
    "Dans cette exercise, vous n'avez pas le droit d'utiliser +, -, * ou /, ni de boucle for. Vous pouvez uniquement utiliser les fonctions plus_one et minus_one définies ci-dessous.\n",
    "\n",
    "1. Ecrivez de facon itérative puis récursive la fonction add. Pour la version itérative, affichez à l'écran chaque appel à celle-ci, avec les arguments. On suppose que l'on travaille avec des entiers positifs."
   ]
  },
  {
   "cell_type": "code",
   "execution_count": null,
   "metadata": {},
   "outputs": [],
   "source": [
    "def plus_one(a):\n",
    "    return a + 1\n",
    "\n",
    "def minus_one(a):\n",
    "    return a - 1"
   ]
  },
  {
   "cell_type": "code",
   "execution_count": null,
   "metadata": {},
   "outputs": [],
   "source": [
    "def add_iteratif(a, b):\n",
    "    '''Retourne la somme de a et b. On considère a et b positifs.'''\n",
    "    # Votre code\n",
    "    pass\n",
    "    \n",
    "def add_recursif(a, b):\n",
    "    '''Retourne la somme de a et b.'''\n",
    "    # Votre code\n",
    "    pass"
   ]
  },
  {
   "cell_type": "code",
   "execution_count": null,
   "metadata": {},
   "outputs": [],
   "source": [
    "print(add_iteratif(5, 10))\n",
    "print(add_recursif(5, 10))"
   ]
  },
  {
   "cell_type": "markdown",
   "metadata": {},
   "source": [
    "2. En utilisant add_itératif, créez mul_iteratif, qui multiplie deux nombres. Même chose pour mul_recursif."
   ]
  },
  {
   "cell_type": "code",
   "execution_count": null,
   "metadata": {},
   "outputs": [],
   "source": [
    "def mul_iteratif(a, b):\n",
    "    '''Retourne la multiplication de a par b'''\n",
    "    # Votre code\n",
    "    pass\n",
    "\n",
    "def mul_recursif(a, b):\n",
    "    '''Retourne la multiplication de a par b'''\n",
    "    # Votre code\n",
    "    pass"
   ]
  },
  {
   "cell_type": "code",
   "execution_count": null,
   "metadata": {},
   "outputs": [],
   "source": [
    "print(mul_iteratif(5, 10))\n",
    "print(mul_recursif(5, 10))"
   ]
  },
  {
   "cell_type": "markdown",
   "metadata": {},
   "source": [
    "## Exercice 2\n",
    "\n",
    "Ecrire une version itérative et une version récursive d'un programme qui :\n",
    "- Génère des nombres entiers aléatoires compris entre 0 et 100 (inclus),\n",
    "- Affiche parmi ces nombres ceux qui sont multiples de 5 ou de 6,\n",
    "- S’arrête quand 10 nombres aléatoires multiples de 5 ou de 6 sont affichés.\n",
    "\n",
    "Vous aurez besoin de la fonction randint du package random. randint(a, b) renvoit un nombre aléatoire plus grand ou égal à a, mais strictement inférieur à b.\n",
    "\n",
    "Attention: vous pouvez avoir besoin de modifier les arguments de la fonction pour la version récursive."
   ]
  },
  {
   "cell_type": "code",
   "execution_count": null,
   "metadata": {},
   "outputs": [],
   "source": [
    "from random import randint\n",
    "\n",
    "def random_multiple_iter():\n",
    "    pass\n",
    "\n",
    "def random_multiple_rec():\n",
    "    pass"
   ]
  },
  {
   "cell_type": "code",
   "execution_count": null,
   "metadata": {},
   "outputs": [],
   "source": [
    "print('Iterative')\n",
    "random_multiple_iter()\n",
    "print('Recursive')\n",
    "random_multiple_rec()"
   ]
  },
  {
   "cell_type": "markdown",
   "metadata": {},
   "source": [
    "## Exercice 3 - Recherche dichotomique "
   ]
  },
  {
   "cell_type": "markdown",
   "metadata": {},
   "source": [
    "On vous donne une liste d'entiers triée. Recherchez de manière optimale si un entier est dans cette liste ou non. Faites une version itérative et une version récursive.\n",
    "\n",
    "Indice: in n'est pas optimal dans ce cas. En effet, on peut ne pas tester tous les éléments de la liste, en commencant par le milieu par exemple !"
   ]
  },
  {
   "cell_type": "code",
   "execution_count": null,
   "metadata": {},
   "outputs": [],
   "source": [
    "def dichotomie_iter(l, n):\n",
    "    pass\n",
    "\n",
    "def dichotomie_rec(l, n):\n",
    "    pass"
   ]
  },
  {
   "cell_type": "code",
   "execution_count": null,
   "metadata": {},
   "outputs": [],
   "source": [
    "from time import time\n",
    "l = list(range(10000000))\n",
    "x = 8756700\n",
    "\n",
    "t0 = time()\n",
    "x in l\n",
    "print(f'in exécuté en {time() - t0} secondes')\n",
    "\n",
    "t0 = time()\n",
    "dichotomie_iter(l, x)\n",
    "print(f'dichotomie_iter exécuté en {time() - t0} secondes')\n",
    "\n",
    "t0 = time()\n",
    "dichotomie_rec(l, x)\n",
    "print(f'dichomie_rec exécuté en {time() - t0} secondes')"
   ]
  },
  {
   "cell_type": "markdown",
   "metadata": {},
   "source": [
    "## Exercice 4 - Algorithme glouton\n",
    "\n",
    "Étant donné une liste d'entiers, sommez les... Cependant, il y a une complication. L'opération + a maintenant un coup. Quand vous ajoutez a et b, vous devez payer le cout a+b.\n",
    "\n",
    "Par exemple, si vous avez la liste [1, 2, 3], vous pouvez la sommez de différente facon:\n",
    "\n",
    "Approche 1  \n",
    "1 + 2 = 3 (cout = 3)  \n",
    "3 + 3 = 6 (cout = 6)  \n",
    "Cout total = 9\n",
    "\n",
    "Approche 2  \n",
    "1 + 3 = 4 (cout = 4)  \n",
    "4 + 2 = 6 (cout = 6)  \n",
    "Cout total = 10\n",
    "\n",
    "Approche 3  \n",
    "2 + 3 = 5 (cout = 5)  \n",
    "5 + 1 = 6 (cout = 6)  \n",
    "Cout total = 11\n",
    "\n",
    "Trouvez le cout le plus faible requis pour sommer une liste d'entiers."
   ]
  },
  {
   "cell_type": "code",
   "execution_count": null,
   "metadata": {},
   "outputs": [],
   "source": [
    "def lowest_cost(l):\n",
    "    pass"
   ]
  },
  {
   "cell_type": "code",
   "execution_count": null,
   "metadata": {},
   "outputs": [],
   "source": [
    "lowest_cost([1, 2, 3])"
   ]
  },
  {
   "cell_type": "markdown",
   "metadata": {},
   "source": [
    "## Exercice 5 - Tour d'Hanoi\n",
    "\n",
    "c.f. https://fr.wikipedia.org/wiki/Tours_de_Hano%C3%AF\n",
    "\n",
    "Les tours d'Hanoi sont un jeu composé d'une pyramide de disques et de 3 piques. Au départ, la pyramide est sur le pique de gauche. Le but est de la déplacé sur le pique de droite. Pour cela, il y a deux règles:\n",
    "- on déplace les disques un par un\n",
    "- un disque ne peut être placé sur un disque plus petit que lui\n",
    "\n",
    "Résolvez ce jeu.\n",
    "\n",
    "Vous pouvez charger un indice grâce aux cellules ci dessous."
   ]
  },
  {
   "cell_type": "code",
   "execution_count": null,
   "metadata": {},
   "outputs": [],
   "source": [
    "# Indice 1\n",
    "# %load -r :4 solutions/hanoi_indices.py"
   ]
  },
  {
   "cell_type": "code",
   "execution_count": null,
   "metadata": {},
   "outputs": [],
   "source": [
    "# Indice 2\n",
    "# %load -r 5:10 solutions/hanoi_indices.py"
   ]
  },
  {
   "cell_type": "code",
   "execution_count": null,
   "metadata": {},
   "outputs": [],
   "source": [
    "# Indice 3\n",
    "# %load -r 11:15 solutions/hanoi_indices.py"
   ]
  },
  {
   "cell_type": "code",
   "execution_count": null,
   "metadata": {},
   "outputs": [],
   "source": [
    "# Indice 4\n",
    "# %load -r 16: solutions/hanoi_indices.py"
   ]
  },
  {
   "cell_type": "code",
   "execution_count": null,
   "metadata": {},
   "outputs": [],
   "source": [
    "def solve(towers, n_discs):\n",
    "    pass"
   ]
  },
  {
   "cell_type": "code",
   "execution_count": null,
   "metadata": {},
   "outputs": [],
   "source": [
    "towers, n_discs = None, None\n",
    "solve(towers, n_discs)"
   ]
  },
  {
   "cell_type": "markdown",
   "metadata": {},
   "source": [
    "## Exercice 6 - Fibonnaci\n",
    "\n",
    "1. Calculez le n-ieme terme de la suite de Fibonnaci de manière récursive. Rappel, la suite de Fibonnaci commence avec 0, 1 puis on calcule un autre nombre en sommant les deux derniers."
   ]
  },
  {
   "cell_type": "code",
   "execution_count": null,
   "metadata": {},
   "outputs": [],
   "source": [
    "def fibonnaci(n):\n",
    "    pass"
   ]
  },
  {
   "cell_type": "code",
   "execution_count": null,
   "metadata": {},
   "outputs": [],
   "source": [
    "fibonnaci(5)"
   ]
  },
  {
   "cell_type": "markdown",
   "metadata": {},
   "source": [
    "2. Si vous affichez chaque appel de cette fonction, vous verrez que c'est hautement inefficace. Changez cela en gardant les résulats déjà calculé en mémoire."
   ]
  },
  {
   "cell_type": "code",
   "execution_count": null,
   "metadata": {},
   "outputs": [],
   "source": [
    "def fibonnaci_opti(n):\n",
    "    pass"
   ]
  },
  {
   "cell_type": "code",
   "execution_count": null,
   "metadata": {},
   "outputs": [],
   "source": [
    "fibonnaci_opti(15)"
   ]
  },
  {
   "cell_type": "code",
   "execution_count": null,
   "metadata": {},
   "outputs": [],
   "source": [
    "t0 = time()\n",
    "fibonnaci(35)\n",
    "t1 = time()\n",
    "fibonnaci_opti(35)\n",
    "t2 = time()\n",
    "print(f'La première version a pris {t1 - t0} secondes, la seconde {t2 - t1}.')"
   ]
  },
  {
   "cell_type": "markdown",
   "metadata": {},
   "source": [
    "## Exercice 7 - Factoriel\n",
    "\n",
    "Même exercice que le 6, mais avec les factoriels. factoriel(n) signifie `n * (n-1) * (n-2) * ... * 1`"
   ]
  },
  {
   "cell_type": "code",
   "execution_count": null,
   "metadata": {},
   "outputs": [],
   "source": [
    "def factoriel(n):\n",
    "    pass\n",
    "\n",
    "def factoriel_opti(n):\n",
    "    pass"
   ]
  },
  {
   "cell_type": "code",
   "execution_count": null,
   "metadata": {},
   "outputs": [],
   "source": [
    "t0 = time()\n",
    "factoriel(35)\n",
    "t1 = time()\n",
    "factoriel_opti(35)\n",
    "t2 = time()\n",
    "print(f'La première version a pris {t1 - t0} secondes, la seconde {t2 - t1}.')"
   ]
  },
  {
   "cell_type": "markdown",
   "metadata": {},
   "source": [
    "## Exercice 8 - Sudoku\n",
    "\n",
    "Imaginer un moyen récursif de résoudre un sudoku, et coder le."
   ]
  },
  {
   "cell_type": "code",
   "execution_count": null,
   "metadata": {},
   "outputs": [],
   "source": [
    "# Votre code"
   ]
  },
  {
   "cell_type": "code",
   "execution_count": null,
   "metadata": {},
   "outputs": [],
   "source": []
  },
  {
   "cell_type": "code",
   "execution_count": null,
   "metadata": {},
   "outputs": [],
   "source": []
  },
  {
   "cell_type": "code",
   "execution_count": null,
   "metadata": {},
   "outputs": [],
   "source": []
  },
  {
   "cell_type": "code",
   "execution_count": null,
   "metadata": {},
   "outputs": [],
   "source": []
  },
  {
   "cell_type": "markdown",
   "metadata": {},
   "source": [
    "# Solutions"
   ]
  },
  {
   "cell_type": "markdown",
   "metadata": {},
   "source": [
    "## Exercice 1.1"
   ]
  },
  {
   "cell_type": "code",
   "execution_count": null,
   "metadata": {},
   "outputs": [],
   "source": [
    "def add_iteratif(a, b):\n",
    "    '''Retourne la somme de a et b.'''\n",
    "    if b > a:\n",
    "        a, b = b, a\n",
    "    while b > 0:\n",
    "        a = plus_one(a)\n",
    "        b = minus_one(b)\n",
    "    return a\n",
    "    \n",
    "def add_recursif(a, b):\n",
    "    '''Retourne la somme de a et b.'''\n",
    "    if b == 0:\n",
    "        return a\n",
    "    if b > a:\n",
    "        a, b = b, a\n",
    "    return add_recursif(plus_one(a), minus_one(b))"
   ]
  },
  {
   "cell_type": "code",
   "execution_count": null,
   "metadata": {},
   "outputs": [],
   "source": [
    "print(add_iteratif(5, 10))\n",
    "print(add_recursif(5, 10))"
   ]
  },
  {
   "cell_type": "markdown",
   "metadata": {},
   "source": [
    "## Exercice 1.2"
   ]
  },
  {
   "cell_type": "code",
   "execution_count": null,
   "metadata": {},
   "outputs": [],
   "source": [
    "def mul_iteratif(a, b):\n",
    "    '''Retourne la multiplication de a par b'''\n",
    "    result = 0\n",
    "    while b != 0:\n",
    "        result = add_iteratif(result, a)\n",
    "        b = minus_one(b)\n",
    "    return result\n",
    "\n",
    "def mul_recursif(a, b):\n",
    "    '''Retourne la multiplication de a par b'''\n",
    "    if b == 0:\n",
    "        return 0\n",
    "    elif b == 1:\n",
    "        return a\n",
    "\n",
    "    if b > a:\n",
    "        a, b = b, a\n",
    "    return add_recursif(a, mul_recursif(a, minus_one(b)))"
   ]
  },
  {
   "cell_type": "code",
   "execution_count": null,
   "metadata": {},
   "outputs": [],
   "source": [
    "print(mul_iteratif(5, 10))\n",
    "print(mul_recursif(5, 10))"
   ]
  },
  {
   "cell_type": "markdown",
   "metadata": {},
   "source": [
    "## Exercice 2"
   ]
  },
  {
   "cell_type": "code",
   "execution_count": null,
   "metadata": {},
   "outputs": [],
   "source": [
    "from random import randint\n",
    "\n",
    "def random_multiple_iter():\n",
    "    nb_print = 0\n",
    "    while nb_print < 10:\n",
    "        x = randint(0, 100)\n",
    "        if (x % 5 == 0) or (x % 6 == 0):\n",
    "            nb_print += 1\n",
    "            print(x)\n",
    "\n",
    "\n",
    "def random_multiple_rec(n=0):\n",
    "    if n == 10:\n",
    "        return\n",
    "    x = 3\n",
    "    while (x % 5 > 0) and (x % 6 > 0):\n",
    "        x = randint(0, 100)\n",
    "    print(x)\n",
    "    random_multiple_rec(n+1)"
   ]
  },
  {
   "cell_type": "code",
   "execution_count": null,
   "metadata": {},
   "outputs": [],
   "source": [
    "print('Iterative')\n",
    "random_multiple_iter()\n",
    "print('Recursive')\n",
    "random_multiple_rec()"
   ]
  },
  {
   "cell_type": "markdown",
   "metadata": {},
   "source": [
    "## Exercice 3"
   ]
  },
  {
   "cell_type": "code",
   "execution_count": null,
   "metadata": {},
   "outputs": [],
   "source": [
    "def dichotomie_iter(l, n):\n",
    "    start = 0\n",
    "    end = len(l) - 1\n",
    "    while start <= end:\n",
    "        mid = (end + start) // 2\n",
    "        if l[mid] == n:\n",
    "            return True\n",
    "        elif l[mid] > n:\n",
    "            end = mid - 1\n",
    "        else:\n",
    "            start = mid + 1\n",
    "    return False\n",
    "\n",
    "def dichotomie_rec(l, n):\n",
    "    if l == []:\n",
    "        return False\n",
    "    mid = len(l) // 2\n",
    "    if l[mid] == n:\n",
    "        return True\n",
    "    elif l[mid] > n:\n",
    "        return dichotomie_rec(l[:mid], n)\n",
    "    else:\n",
    "        return dichotomie_rec(l[mid + 1:], n)\n",
    "    return False\n",
    "\n",
    "# Version mieux car elle évite de copier la liste plusieurs fois\n",
    "def dichotomie_rec_v2_aux(l, n, start, end):\n",
    "    if start > end:\n",
    "        return False\n",
    "    \n",
    "    mid = (end + start) // 2\n",
    "    if l[mid] == n:\n",
    "        return True\n",
    "    elif l[mid] > n:\n",
    "        return dichotomie_rec_v2_aux(l, n, start, mid - 1)\n",
    "    else:\n",
    "        return dichotomie_rec_v2_aux(l, n, mid + 1, end)\n",
    "    \n",
    "def dichotomie_rec_v2(l, n):\n",
    "    return dichotomie_rec_v2_aux(l, n, 0, len(l) - 1)"
   ]
  },
  {
   "cell_type": "code",
   "execution_count": null,
   "metadata": {},
   "outputs": [],
   "source": [
    "from time import time\n",
    "l = list(range(10000000))\n",
    "x = 8756700\n",
    "\n",
    "t0 = time()\n",
    "x in l\n",
    "print(f'in exécuté en {time() - t0} secondes')\n",
    "\n",
    "t0 = time()\n",
    "dichotomie_iter(l, x)\n",
    "print(f'dichotomie_iter exécuté en {time() - t0} secondes')\n",
    "\n",
    "t0 = time()\n",
    "dichotomie_rec(l, x)\n",
    "print(f'dichomie_rec exécuté en {time() - t0} secondes')\n",
    "\n",
    "t0 = time()\n",
    "dichotomie_rec_v2(l, x)\n",
    "print(f'dichotomie_rec_v2 exécuté en {time() - t0} secondes')"
   ]
  },
  {
   "cell_type": "markdown",
   "metadata": {},
   "source": [
    "## Exercice 4"
   ]
  },
  {
   "cell_type": "code",
   "execution_count": null,
   "metadata": {},
   "outputs": [],
   "source": [
    "def lowest_cost(l):\n",
    "    if len(l) <= 1:\n",
    "        return 0\n",
    "    if len(l) == 2:\n",
    "        return sum(l)\n",
    "    for i in range(len(l)):\n",
    "        for j in range(i + 1, len(l)):\n",
    "            current_cost = l[i] + l[j] + lowest_cost([l[i] + l[j]] + l[:i] + l[i+1:j] + l[j+1:])\n",
    "            if i == 0 and j == 1:\n",
    "                min_cost = current_cost\n",
    "            else:\n",
    "                min_cost = min(min_cost, current_cost)\n",
    "    return min_cost"
   ]
  },
  {
   "cell_type": "code",
   "execution_count": null,
   "metadata": {},
   "outputs": [],
   "source": [
    "lowest_cost([1, 2, 3])"
   ]
  },
  {
   "cell_type": "markdown",
   "metadata": {},
   "source": [
    "## Exercice 5"
   ]
  },
  {
   "cell_type": "code",
   "execution_count": null,
   "metadata": {},
   "outputs": [],
   "source": [
    "n_discs = 5\n",
    "towers = [list(range(n_discs)), [], []]\n",
    "\n",
    "def move_one_disc(start, end, towers):\n",
    "    '''Move one disc from start peg to end peg'''\n",
    "    print(f'Called with towers {towers}')\n",
    "    print(f'Will move 1 discs from {start} to {end}')\n",
    "    towers[end].append(towers[start][-1])\n",
    "    towers[start] = towers[start][:-1]\n",
    "    return towers\n",
    "\n",
    "def move_discs(start, end, tmp, n_to_move, towers):\n",
    "    '''Move n_to_move discs from the start peg to the end peg. tmp is the indice of the third peg.'''\n",
    "    if n_to_move == 1:\n",
    "        towers = move_one_disc(start, end, towers)\n",
    "    else:\n",
    "        towers = move_discs(start, tmp, end, n_to_move - 1, towers)\n",
    "        towers = move_one_disc(start, end, towers)\n",
    "        towers = move_discs(tmp, end, start, n_to_move - 1, towers)\n",
    "    return towers\n",
    "\n",
    "def solve(towers, n_discs):\n",
    "    move_discs(0, 2, 1, n_discs, towers)\n",
    "    print('Solved')\n",
    "    print(towers)"
   ]
  },
  {
   "cell_type": "code",
   "execution_count": null,
   "metadata": {},
   "outputs": [],
   "source": [
    "solve(towers, n_discs)"
   ]
  },
  {
   "cell_type": "markdown",
   "metadata": {},
   "source": [
    "## Exercice 6.1"
   ]
  },
  {
   "cell_type": "code",
   "execution_count": null,
   "metadata": {},
   "outputs": [],
   "source": [
    "def fibonnaci(n):\n",
    "    if n == 0:\n",
    "        return 0\n",
    "    if n == 1:\n",
    "        return 1\n",
    "    return fibonnaci(n-1) + fibonnaci(n-2)"
   ]
  },
  {
   "cell_type": "code",
   "execution_count": null,
   "metadata": {},
   "outputs": [],
   "source": [
    "fibonnaci(5)"
   ]
  },
  {
   "cell_type": "markdown",
   "metadata": {},
   "source": [
    "## Exercice 6.2"
   ]
  },
  {
   "cell_type": "code",
   "execution_count": null,
   "metadata": {},
   "outputs": [],
   "source": [
    "def fibonnaci_aux(n, memory):\n",
    "    if n not in memory:\n",
    "        memory[n] = fibonnaci_aux(n-1, memory) + fibonnaci_aux(n-2, memory)\n",
    "    return memory[n]\n",
    "\n",
    "def fibonnaci_opti(n):\n",
    "    memory = {0: 0, 1: 1}\n",
    "    return fibonnaci_aux(n, memory)"
   ]
  },
  {
   "cell_type": "code",
   "execution_count": null,
   "metadata": {},
   "outputs": [],
   "source": [
    "fibonnaci_opti(15)"
   ]
  },
  {
   "cell_type": "code",
   "execution_count": null,
   "metadata": {},
   "outputs": [],
   "source": [
    "t0 = time()\n",
    "fibonnaci(35)\n",
    "t1 = time()\n",
    "fibonnaci_opti(35)\n",
    "t2 = time()\n",
    "print(f'La première version a pris {t1 - t0} secondes, la seconde {t2 - t1}.')"
   ]
  },
  {
   "cell_type": "markdown",
   "metadata": {},
   "source": [
    "## Exercice 7"
   ]
  },
  {
   "cell_type": "code",
   "execution_count": null,
   "metadata": {},
   "outputs": [],
   "source": [
    "def factoriel(n):\n",
    "    if n == 0:\n",
    "        return 0\n",
    "    if n == 1:\n",
    "        return 1\n",
    "    return factoriel(n-1) * factoriel(n-2)\n",
    "\n",
    "\n",
    "def factoriel_opti(n):\n",
    "    memory = {0: 1, 1: 1}\n",
    "    return factoriel_aux(n, memory)\n",
    "\n",
    "def factoriel_aux(n, memory):\n",
    "    if n not in memory:\n",
    "        memory[n] = factoriel_aux(n-1, memory) * factoriel_aux(n-2, memory)\n",
    "    return memory[n]"
   ]
  },
  {
   "cell_type": "code",
   "execution_count": null,
   "metadata": {},
   "outputs": [],
   "source": [
    "t0 = time()\n",
    "factoriel(35)\n",
    "t1 = time()\n",
    "factoriel_opti(35)\n",
    "t2 = time()\n",
    "print(f'La première version a pris {t1 - t0} secondes, la seconde {t2 - t1}.')"
   ]
  },
  {
   "cell_type": "markdown",
   "metadata": {},
   "source": [
    "## Exercice 8"
   ]
  },
  {
   "cell_type": "code",
   "execution_count": null,
   "metadata": {},
   "outputs": [],
   "source": [
    "def create_sudoku_from_list_of_index(xs, ys, values):\n",
    "    sudoku = [[0 for _ in range(9)] for _ in range(9)]\n",
    "    for x, y, value in zip(xs, ys, values):\n",
    "        sudoku[x][y] = value\n",
    "    return sudoku\n",
    "\n",
    "\n",
    "def print_sodoku(sudoku):\n",
    "    for row in sudoku:\n",
    "        print(' '.join([str(i) for i in row]))\n",
    "\n",
    "\n",
    "def check_row(sudoku, i):\n",
    "    memory = set()\n",
    "    for value in sudoku[i]:\n",
    "        if value != 0 and value in memory:\n",
    "            return False\n",
    "        memory.add(value)\n",
    "    return True\n",
    "\n",
    "\n",
    "def check_column(sudoku, j):\n",
    "    memory = set()\n",
    "    for value in [row[j] for row in sudoku]:\n",
    "        if value != 0 and value in memory:\n",
    "            return False\n",
    "        memory.add(value)\n",
    "    return True\n",
    "\n",
    "\n",
    "def check_square(sudoku, n):\n",
    "    '''\n",
    "    Consider the sudoku as 9 squares\n",
    "     0 | 1 | 2\n",
    "     3 | 4 | 5\n",
    "     6 | 7 | 8\n",
    "\n",
    "    '''\n",
    "    memory = set()\n",
    "    first_i = n // 3 * 3\n",
    "    first_j = n % 3 * 3\n",
    "    for row in sudoku[first_i: first_i + 3]:\n",
    "        for value in row[first_j: first_j + 3]:\n",
    "            if value != 0 and value in memory:\n",
    "                return False\n",
    "            memory.add(value)\n",
    "    return True\n",
    "\n",
    "\n",
    "def check_new_value(sudoku, i, j):\n",
    "    return (check_row(sudoku, i)\n",
    "            and check_column(sudoku, j)\n",
    "            and check_square(sudoku, (i // 3) * 3 + (j // 3)))\n",
    "\n",
    "\n",
    "def next_step(i, j):\n",
    "    if j == 8:\n",
    "        return i + 1, 0\n",
    "    return i, j + 1\n",
    "\n",
    "\n",
    "def solve_sudoku(sudoku, i=0, j=0):\n",
    "    if i > 8:\n",
    "        return True\n",
    "\n",
    "    next_i, next_j = next_step(i, j)\n",
    "    if sudoku[i][j] != 0:\n",
    "        return solve_sudoku(sudoku, next_i, next_j)\n",
    "\n",
    "    for value in range(1, 10):\n",
    "        sudoku[i][j] = value\n",
    "        if check_new_value(sudoku, i, j) and solve_sudoku(sudoku, next_i, next_j):\n",
    "            return True\n",
    "    sudoku[i][j] = 0\n",
    "    return False"
   ]
  },
  {
   "cell_type": "code",
   "execution_count": null,
   "metadata": {},
   "outputs": [],
   "source": [
    "xs = [0, 1, 2, 2, 2, 3, 3, 3, 3, 4, 4, 5, 5, 6, 6, 6, 6, 7, 7, 7, 7, 8, 8]\n",
    "ys = [0, 5, 6, 7, 8, 2, 4, 5, 7, 2, 3, 2, 4, 0, 1, 6, 8, 0, 5, 7, 8, 2, 3]\n",
    "values = [4, 9, 7, 8, 5, 7, 4, 8, 5, 1, 3, 6, 7, 8, 6, 9, 3, 7, 5, 6, 2, 3, 7]\n",
    "\n",
    "sudoku = create_sudoku_from_list_of_index(xs, ys, values)\n",
    "print_sodoku(sudoku)\n",
    "print(solve_sudoku(sudoku))\n",
    "print_sodoku(sudoku)"
   ]
  }
 ],
 "metadata": {
  "kernelspec": {
   "display_name": "Python 3",
   "language": "python",
   "name": "python3"
  },
  "language_info": {
   "codemirror_mode": {
    "name": "ipython",
    "version": 3
   },
   "file_extension": ".py",
   "mimetype": "text/x-python",
   "name": "python",
   "nbconvert_exporter": "python",
   "pygments_lexer": "ipython3",
   "version": "3.8.6"
  }
 },
 "nbformat": 4,
 "nbformat_minor": 2
}
