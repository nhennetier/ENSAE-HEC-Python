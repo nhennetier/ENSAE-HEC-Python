{
 "cells": [
  {
   "cell_type": "markdown",
   "metadata": {},
   "source": [
    "# TD 6"
   ]
  },
  {
   "cell_type": "code",
   "execution_count": 12,
   "metadata": {},
   "outputs": [],
   "source": [
    "import numpy as np\n",
    "import matplotlib.pyplot as plt"
   ]
  },
  {
   "cell_type": "markdown",
   "metadata": {},
   "source": [
    "## Exercice 1 - Distance de Levenshtein\n",
    "\n",
    "Implémentez l'algorithme de Levenshtein qui donne la distance entre deux chaines de caractères\n",
    "https://en.wikipedia.org/wiki/Levenshtein_distance"
   ]
  },
  {
   "cell_type": "code",
   "execution_count": 2,
   "metadata": {},
   "outputs": [],
   "source": [
    "def levenshtein_distance(m1, m2):\n",
    "    return"
   ]
  },
  {
   "cell_type": "code",
   "execution_count": 3,
   "metadata": {},
   "outputs": [],
   "source": [
    "levenshtein_distance('agrafe', 'agrae')"
   ]
  },
  {
   "cell_type": "markdown",
   "metadata": {},
   "source": [
    "## Exercice 2 - X2 d'un tableau de contingence"
   ]
  },
  {
   "cell_type": "markdown",
   "metadata": {},
   "source": [
    "Réécrivez la formule du chi 2 d'un tableau de contingence, sans utiliser de boucles bien entendu !\n",
    "La formule est ici : https://en.wikipedia.org/wiki/Pearson%27s_chi-squared_test#Testing_for_statistical_independence"
   ]
  },
  {
   "cell_type": "code",
   "execution_count": 11,
   "metadata": {},
   "outputs": [],
   "source": [
    "def chi_square(O):\n",
    "    return\n",
    "\n",
    "\n",
    "chi_square(np.array([[15., 20., 13.], [4., 9., 5.]]))"
   ]
  },
  {
   "cell_type": "markdown",
   "metadata": {},
   "source": [
    "## Exercice 3 - Traveling Salesman Problem (TSP)"
   ]
  },
  {
   "cell_type": "markdown",
   "metadata": {},
   "source": [
    "Voici une liste de villes placées aléatoirement sur un plan en 2D."
   ]
  },
  {
   "cell_type": "code",
   "execution_count": 23,
   "metadata": {},
   "outputs": [
    {
     "data": {
      "image/png": "[encoded data removed]",
      "text/plain": [
       "<Figure size 432x288 with 1 Axes>"
      ]
     },
     "metadata": {
      "needs_background": "light"
     },
     "output_type": "display_data"
    }
   ],
   "source": [
    "villes = np.random.rand(20, 2)\n",
    "\n",
    "def dessine_tour(villes, perm):\n",
    "    plt.plot(\n",
    "        villes[perm, 0],\n",
    "        villes[perm, 1],\n",
    "        'b-o'\n",
    "    )\n",
    "    plt.plot(\n",
    "        [villes[perm[0], 0], villes[perm[-1], 0]],\n",
    "        [villes[perm[0], 1], villes[perm[-1], 1]],\n",
    "        'b-o'\n",
    "    )\n",
    "    plt.show()\n",
    "    \n",
    "\n",
    "dessine_tour(villes, list(range(villes.shape[0])))"
   ]
  },
  {
   "cell_type": "markdown",
   "metadata": {},
   "source": [
    "Question 1:\n",
    "Écrivez deux fonctions distance_ville et distance_tour qui renvoient la distance parcourue en visitant chaque ville les unes à la suite des autres"
   ]
  },
  {
   "cell_type": "code",
   "execution_count": 18,
   "metadata": {},
   "outputs": [],
   "source": [
    "def distance_ville(v1, v2):\n",
    "    return\n",
    "\n",
    "def distance_tour(villes, permutation):\n",
    "    return\n",
    "\n",
    "distance_tour(villes, list(range(villes.shape[0])))"
   ]
  },
  {
   "cell_type": "markdown",
   "metadata": {},
   "source": [
    "Question 2: On cherche à parcourir toutes ces villes de manière un peu plus efficace qu'aléatoirement. Une 1ère idée est la suivante : on calcule la distance parcourue de manière aléatoire. Puis on inverse deux villes, et on recalcule la distance totale. Si elle est inférieure à la distance précédente, on conserve cette permutation. On réalise cela jusqu'à échouer n fois de suite."
   ]
  },
  {
   "cell_type": "code",
   "execution_count": null,
   "metadata": {},
   "outputs": [],
   "source": [
    "def ameliore_tour(villes, n_max=10):\n",
    "    return\n",
    "\n",
    "dist, nb_perm, perm = ameliore_tour(villes, n_max=1000)\n",
    "print(\"nb perm\", nb_perm)\n",
    "dessine_tour(villes, perm)"
   ]
  },
  {
   "cell_type": "markdown",
   "metadata": {},
   "source": [
    "Question 3: On remarque que si deux chemins se croisent, on peut retourner une des deux parties du chemin pour réduire la distance totale."
   ]
  },
  {
   "cell_type": "code",
   "execution_count": null,
   "metadata": {},
   "outputs": [],
   "source": [
    "def ameliore_tour_renversement(villes, n_max=10):\n",
    "    return\n",
    "\n",
    "dist, nb_perm, perm = ameliore_tour_renversement(villes, n_max=1000)\n",
    "print(\"nb perm\", nb_perm)\n",
    "dessine_tour(villes, perm)"
   ]
  },
  {
   "cell_type": "markdown",
   "metadata": {},
   "source": [
    "Question 4: On essaye une autre méthode : on prend aléatoirement une ville, on se dirige vers la plus proche, puis la plus proche de la plus proche... sans revenir à une ville précédente."
   ]
  },
  {
   "cell_type": "code",
   "execution_count": null,
   "metadata": {},
   "outputs": [],
   "source": [
    "def nn_queue_swap(villes):\n",
    "    return\n",
    "\n",
    "villes_nn = nn_queue_swap(villes)\n",
    "print(distance_tour(villes, villes_nn))\n",
    "dessine_tour(villes, perm)"
   ]
  },
  {
   "cell_type": "markdown",
   "metadata": {},
   "source": [
    "# Solutions"
   ]
  },
  {
   "cell_type": "markdown",
   "metadata": {},
   "source": [
    "## Exercice 1"
   ]
  },
  {
   "cell_type": "code",
   "execution_count": 7,
   "metadata": {},
   "outputs": [
    {
     "data": {
      "text/plain": [
       "1.0"
      ]
     },
     "execution_count": 7,
     "metadata": {},
     "output_type": "execute_result"
    }
   ],
   "source": [
    "def levenshtein_distance(m1, m2):\n",
    "    mat = np.zeros((len(m1) + 1, len(m2) + 1))\n",
    "    for i in range(len(m1) + 1):\n",
    "        mat[i, 0] = i\n",
    "    for j in range(len(m2) + 1):\n",
    "        mat[0, j] = j\n",
    "    for i in range(1, len(m1) + 1):\n",
    "        for j in range(1, len(m2) + 1):\n",
    "            c1 = mat[i-1, j] + 1\n",
    "            c2 = mat[i, j-1] + 1\n",
    "            if m1[i-1] == m2[j-1]:\n",
    "                c = 0\n",
    "            else:\n",
    "                c = 1\n",
    "            c3 = mat[i-1, j-1] + c\n",
    "            mat[i, j] = min([c1, c2, c3])\n",
    "    return mat[-1, -1]\n",
    "\n",
    "\n",
    "levenshtein_distance('agrafe', 'agrae')"
   ]
  },
  {
   "cell_type": "markdown",
   "metadata": {},
   "source": [
    "## Exercice 2"
   ]
  },
  {
   "cell_type": "code",
   "execution_count": 10,
   "metadata": {},
   "outputs": [
    {
     "data": {
      "text/plain": [
       "0.5798254016266716"
      ]
     },
     "execution_count": 10,
     "metadata": {},
     "output_type": "execute_result"
    }
   ],
   "source": [
    "def chi_square(O):\n",
    "    N = np.sum(O)\n",
    "    pis = np.sum(O, axis=1, keepdims=True) / N\n",
    "    pjs = np.sum(O, axis=0, keepdims=True) / N\n",
    "    pispjs = pis @ pjs\n",
    "    chi = pispjs * ((O / N - pispjs) / pispjs) ** 2\n",
    "    return np.sum(chi) * N\n",
    "\n",
    "\n",
    "chi_square(np.array([[15., 20., 13.], [4., 9., 5.]]))"
   ]
  },
  {
   "cell_type": "markdown",
   "metadata": {},
   "source": [
    "## Exercice 3"
   ]
  },
  {
   "cell_type": "code",
   "execution_count": 21,
   "metadata": {},
   "outputs": [
    {
     "data": {
      "text/plain": [
       "10.93508454998409"
      ]
     },
     "execution_count": 21,
     "metadata": {},
     "output_type": "execute_result"
    }
   ],
   "source": [
    "# Question 1\n",
    "def distance_ville(v1, v2):\n",
    "    return np.sum((v1 - v2) ** 2) ** 0.5\n",
    "\n",
    "def distance_tour(villes, permutation):\n",
    "    tour = distance_ville(\n",
    "        villes[permutation[0]],\n",
    "        villes[permutation[-1]]\n",
    "    )\n",
    "    for i in range(0, len(permutation) - 1):\n",
    "        tour += distance_ville(\n",
    "            villes[permutation[i]],\n",
    "            villes[permutation[i + 1]]\n",
    "        )\n",
    "    return tour\n",
    "\n",
    "distance_tour(villes, list(range(villes.shape[0])))"
   ]
  },
  {
   "cell_type": "code",
   "execution_count": 45,
   "metadata": {},
   "outputs": [
    {
     "name": "stdout",
     "output_type": "stream",
     "text": [
      "nb perm 37\n"
     ]
    },
    {
     "data": {
      "image/png": "[encoded data removed]",
      "text/plain": [
       "<Figure size 432x288 with 1 Axes>"
      ]
     },
     "metadata": {
      "needs_background": "light"
     },
     "output_type": "display_data"
    }
   ],
   "source": [
    "# Question 2\n",
    "def ameliore_tour(villes, n_max=10):\n",
    "    perm = list(range(villes.shape[0]))\n",
    "    dist_min = distance_tour(villes, perm)\n",
    "    cont = True\n",
    "    nb_perm, nb_iter = 0, 0\n",
    "    while cont or nb_iter < n_max:\n",
    "        nb_iter += 1\n",
    "        a = np.random.randint(0, len(perm) - 2)\n",
    "        b = np.random.randint(a + 1, len(perm) - 1)\n",
    "        perm[a], perm[b] = perm[b], perm[a]\n",
    "        dist = distance_tour(villes, perm)\n",
    "        if dist < dist_min:\n",
    "            dist_min = dist\n",
    "            cont = True\n",
    "            nb_perm += 1\n",
    "            nb_iter = 0\n",
    "        else:\n",
    "            perm[a], perm[b] = perm[b], perm[a]\n",
    "            cont = False\n",
    "    return dist_min, nb_perm, perm\n",
    "\n",
    "dist, nb_perm, perm = ameliore_tour(villes, n_max=1000)\n",
    "print(\"nb perm\", nb_perm)\n",
    "dessine_tour(villes, perm)"
   ]
  },
  {
   "cell_type": "code",
   "execution_count": 44,
   "metadata": {},
   "outputs": [
    {
     "name": "stdout",
     "output_type": "stream",
     "text": [
      "nb perm 26\n"
     ]
    },
    {
     "data": {
      "image/png": "[encoded data removed]",
      "text/plain": [
       "<Figure size 432x288 with 1 Axes>"
      ]
     },
     "metadata": {
      "needs_background": "light"
     },
     "output_type": "display_data"
    }
   ],
   "source": [
    "# Question 3\n",
    "def ameliore_tour_renversement(villes, n_max=10):\n",
    "    perm = list(range(villes.shape[0]))\n",
    "    dist_min = distance_tour(villes, perm)\n",
    "    cont = True\n",
    "    nb_perm, nb_iter = 0, 0\n",
    "    while cont or nb_iter < n_max:\n",
    "        nb_iter += 1\n",
    "        p0 = perm.copy()\n",
    "        a = np.random.randint(0, len(perm) - 2)\n",
    "        b = np.random.randint(a + 1, len(perm) - 1)\n",
    "        if a == 0:\n",
    "            perm[0: b] = perm[b: 0: -1]\n",
    "            perm[b] = p0[0]\n",
    "        else:\n",
    "            perm[a: b+1] = perm[b: a-1: -1]\n",
    "        dist = distance_tour(villes, perm)\n",
    "        if dist < dist_min:\n",
    "            dist_min = dist\n",
    "            cont = True\n",
    "            nb_perm += 1\n",
    "            nb_iter = 0\n",
    "        else:\n",
    "            perm = p0\n",
    "            cont = False\n",
    "    return dist_min, nb_perm, perm\n",
    "\n",
    "dist, nb_perm, perm = ameliore_tour_renversement(villes, n_max=1000)\n",
    "print(\"nb perm\", nb_perm)\n",
    "dessine_tour(villes, perm)"
   ]
  },
  {
   "cell_type": "code",
   "execution_count": 46,
   "metadata": {},
   "outputs": [
    {
     "name": "stdout",
     "output_type": "stream",
     "text": [
      "4.108878147308314\n"
     ]
    },
    {
     "data": {
      "image/png": "[encoded data removed]",
      "text/plain": [
       "<Figure size 432x288 with 1 Axes>"
      ]
     },
     "metadata": {
      "needs_background": "light"
     },
     "output_type": "display_data"
    }
   ],
   "source": [
    "#Question 4\n",
    "def ville_lp_proche(city, villes):\n",
    "    dist = ((villes - city) ** 2).sum(axis=1)\n",
    "    i = np.argmin(dist, axis=0)\n",
    "    return dist[i], i\n",
    "\n",
    "\n",
    "def nn_queue_swap(villes):\n",
    "    villes_cpy = villes.copy()\n",
    "    result = []\n",
    "    i = np.random.randint(villes.shape[0])\n",
    "    cnt = 0\n",
    "    while cnt < villes.shape[0]-1:\n",
    "        result.append(i)\n",
    "        current_city = villes_cpy[i].copy()\n",
    "        villes_cpy[i] = [np.inf, np.inf]\n",
    "        _, j = ville_lp_proche(current_city, villes_cpy)\n",
    "        i = j\n",
    "        cnt += 1\n",
    "    result.append(i)\n",
    "    return result\n",
    "\n",
    "\n",
    "villes_nn = nn_queue_swap(villes)\n",
    "print(distance_tour(villes, villes_nn))\n",
    "dessine_tour(villes, perm)"
   ]
  },
  {
   "cell_type": "code",
   "execution_count": null,
   "metadata": {},
   "outputs": [],
   "source": []
  }
 ],
 "metadata": {
  "kernelspec": {
   "display_name": "Python 3",
   "language": "python",
   "name": "python3"
  },
  "language_info": {
   "codemirror_mode": {
    "name": "ipython",
    "version": 3
   },
   "file_extension": ".py",
   "mimetype": "text/x-python",
   "name": "python",
   "nbconvert_exporter": "python",
   "pygments_lexer": "ipython3",
   "version": "3.8.6"
  }
 },
 "nbformat": 4,
 "nbformat_minor": 4
}
