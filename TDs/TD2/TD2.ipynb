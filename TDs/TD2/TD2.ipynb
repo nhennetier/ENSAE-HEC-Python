{
 "cells": [
  {
   "cell_type": "markdown",
   "metadata": {},
   "source": [
    "# TD 2: listes/sets/dictionnaires et boucle for/while"
   ]
  },
  {
   "cell_type": "markdown",
   "metadata": {},
   "source": [
    "**Note**: nous n'avons pas encore vu les fonctions, mais les réponses de ce TD vont être écrites sous forme de fonction.\n",
    "Classiquement, une fonction se définit comme:"
   ]
  },
  {
   "cell_type": "code",
   "execution_count": 1,
   "metadata": {},
   "outputs": [],
   "source": [
    "def ma_fonction(parametre1, parametre2):\n",
    "    # Les instructions\n",
    "    resultat = parametre1 + parametre2\n",
    "    # Si il y a un résultat, on le retourne avec le mot clef return\n",
    "    return resultat"
   ]
  },
  {
   "cell_type": "markdown",
   "metadata": {},
   "source": [
    "## Exercice 1"
   ]
  },
  {
   "cell_type": "markdown",
   "metadata": {},
   "source": [
    "1) Écrivez un programme qui affiche une suite de 12 nombres dans laquelle chaque terme est égal au triple du terme précédent. Le premier terme de cette suite sera donné en paramètre de la fonction."
   ]
  },
  {
   "cell_type": "code",
   "execution_count": 2,
   "metadata": {},
   "outputs": [],
   "source": [
    "def print_triple_sequence(first_term):\n",
    "    # votre programme\n",
    "    pass"
   ]
  },
  {
   "cell_type": "code",
   "execution_count": 3,
   "metadata": {},
   "outputs": [],
   "source": [
    "print_triple_sequence(3)"
   ]
  },
  {
   "cell_type": "markdown",
   "metadata": {},
   "source": [
    "2) Complétez ce programme pour faire saisir par l'utilisateur la valeur du 1er terme de la suite. Cette fonction ne prendra pas d'arguments, et appelera la fonction précédente."
   ]
  },
  {
   "cell_type": "code",
   "execution_count": 5,
   "metadata": {},
   "outputs": [],
   "source": [
    "def print_triple_sequence_user():\n",
    "    # Votre programme\n",
    "    pass"
   ]
  },
  {
   "cell_type": "code",
   "execution_count": 6,
   "metadata": {},
   "outputs": [],
   "source": [
    "print_triple_sequence_user()"
   ]
  },
  {
   "cell_type": "markdown",
   "metadata": {},
   "source": [
    "## Exercice 2\n",
    "\n",
    "On veut calculer une somme d'entiers successifs, à l'aide d'une boucle for. (c'est à dire que l'on veut calculer une somme 1+2+3+4+5 + ... + n )\n",
    "\n",
    "1) Tout d'abord, écrire une fonction pour calculer la somme des entiers successifs entre 1 et n inclus (c'est à dire la somme : 1+2+3+4+...+n) et présenter les résultats sous le format ci dessus.\n",
    "\n",
    "Exemple d'exécution :\n",
    "      \n",
    "      la somme des entiers de 1 à 10 est 55"
   ]
  },
  {
   "cell_type": "code",
   "execution_count": 8,
   "metadata": {},
   "outputs": [],
   "source": [
    "def print_result_sum(n):\n",
    "    # votre programme\n",
    "    pass"
   ]
  },
  {
   "cell_type": "code",
   "execution_count": 9,
   "metadata": {},
   "outputs": [],
   "source": [
    "print_result_sum(10)"
   ]
  },
  {
   "cell_type": "markdown",
   "metadata": {},
   "source": [
    "2) Modifiez votre programme pour qu'il affiche tous les nombres de la somme séparés par un + , suivis de = et de la somme résultat.\n",
    "\n",
    "Exemple d'exécution :\n",
    "\n",
    "    la somme des entiers de 1 à 11 est 1+2+3+4+5+6+7+8+9+10+11 = 66"
   ]
  },
  {
   "cell_type": "code",
   "execution_count": 11,
   "metadata": {},
   "outputs": [],
   "source": [
    "def print_sum(n):\n",
    "    # votre programme\n",
    "    pass"
   ]
  },
  {
   "cell_type": "code",
   "execution_count": 12,
   "metadata": {},
   "outputs": [],
   "source": [
    "print_sum(10)"
   ]
  },
  {
   "cell_type": "markdown",
   "metadata": {},
   "source": [
    "## Exercice 3"
   ]
  },
  {
   "cell_type": "markdown",
   "metadata": {},
   "source": [
    "Ecrire un programme qui détermine si une chaîne de caractères est la concaténation de deux phrases identiques."
   ]
  },
  {
   "cell_type": "code",
   "execution_count": 14,
   "metadata": {},
   "outputs": [],
   "source": [
    "def is_concatenation(s):\n",
    "    # votre programme\n",
    "    pass"
   ]
  },
  {
   "cell_type": "code",
   "execution_count": 15,
   "metadata": {},
   "outputs": [],
   "source": [
    "is_concatenation('aababb')"
   ]
  },
  {
   "cell_type": "markdown",
   "metadata": {},
   "source": [
    "## Exercice 4\n",
    "\n",
    "Écrire un programme qui, en une seule boucle, calcule le minimum, le maximum et la moyenne d'une liste de nombres flottants."
   ]
  },
  {
   "cell_type": "code",
   "execution_count": 17,
   "metadata": {},
   "outputs": [],
   "source": [
    "def min_max_mean(l):\n",
    "    # votre programme\n",
    "    pass"
   ]
  },
  {
   "cell_type": "code",
   "execution_count": 18,
   "metadata": {},
   "outputs": [],
   "source": [
    "min_max_mean([5.5, 10, 17, 20, 0., 4.5])"
   ]
  },
  {
   "cell_type": "markdown",
   "metadata": {},
   "source": [
    "## Exercice 5\n",
    "\n",
    "Écrire une boucle qui demande à l'utilisateur d'entrer des notes d'élèves. La boucle se terminera seulement si l'utilisateur entre une valeur strictement négative.\n",
    "\n",
    "Avec les notes ainsi entrées, construire progressivement une liste. Après chaque entrée d'une nouvelle note (et donc à chaque itération de la boucle), afficher la moyenne de toutes les notes."
   ]
  },
  {
   "cell_type": "code",
   "execution_count": 20,
   "metadata": {},
   "outputs": [],
   "source": [
    "def print_mean():\n",
    "    # votre programme\n",
    "    pass"
   ]
  },
  {
   "cell_type": "code",
   "execution_count": 21,
   "metadata": {},
   "outputs": [],
   "source": [
    "print_mean()"
   ]
  },
  {
   "cell_type": "markdown",
   "metadata": {},
   "source": [
    "## Exercice 6\n",
    "\n",
    "Écrire une fonction qui convertit un nombre en binaire."
   ]
  },
  {
   "cell_type": "code",
   "execution_count": 23,
   "metadata": {},
   "outputs": [],
   "source": [
    "def to_binary(n):\n",
    "    # votre programme\n",
    "    pass"
   ]
  },
  {
   "cell_type": "code",
   "execution_count": 24,
   "metadata": {},
   "outputs": [],
   "source": [
    "to_binary(65)"
   ]
  },
  {
   "cell_type": "markdown",
   "metadata": {},
   "source": [
    "## Exercice 7\n",
    "\n",
    "On cherche à trier une liste de plusieurs facons:\n",
    "\n",
    "1) Tout d'abord, écrivez un programme qui crée une deuxième liste, qui met le plus petit nombre en premiere place, plus le deuxieme plus petit en deuxieme, et ainsi de suite."
   ]
  },
  {
   "cell_type": "code",
   "execution_count": 26,
   "metadata": {},
   "outputs": [],
   "source": [
    "def sort1(l):\n",
    "    # votre programme\n",
    "    pass"
   ]
  },
  {
   "cell_type": "code",
   "execution_count": 27,
   "metadata": {},
   "outputs": [
    {
     "name": "stdout",
     "output_type": "stream",
     "text": [
      "[37, 48, 23, 38, 6, 86, 58, 7, 46, 4, 92, 68, 47, 14, 53, 31, 51, 14, 79, 13]\n",
      "None\n"
     ]
    }
   ],
   "source": [
    "import random\n",
    "l = [random.randint(0, 99) for _ in range(20)]\n",
    "print(l)\n",
    "print(sort1(l))\n"
   ]
  },
  {
   "cell_type": "markdown",
   "metadata": {},
   "source": [
    "2) Ensuite, écrivez un programme qui va parcourir la liste, et si deux éléments cote à cote sont dans le désordre, les permutent. Tant que la liste n'est pas triée, il reparcourt la liste."
   ]
  },
  {
   "cell_type": "code",
   "execution_count": 29,
   "metadata": {},
   "outputs": [],
   "source": [
    "def sort2(l):\n",
    "    # votre programme\n",
    "    pass"
   ]
  },
  {
   "cell_type": "code",
   "execution_count": 30,
   "metadata": {},
   "outputs": [
    {
     "name": "stdout",
     "output_type": "stream",
     "text": [
      "[63, 40, 66, 28, 4, 69, 78, 9, 60, 0, 44, 55, 59, 81, 80, 77, 28, 73, 10, 7]\n",
      "None\n"
     ]
    }
   ],
   "source": [
    "l = [random.randint(0, 99) for _ in range(20)]\n",
    "print(l)\n",
    "print(sort2(l))"
   ]
  },
  {
   "cell_type": "markdown",
   "metadata": {},
   "source": [
    "## Exercice 8\n",
    "\n",
    "Écrire un mastermind. Le programme va générer un nombre aléatoire à 5 chiffres, puis va demander à l'utilisateur un nombre à 5 chiffres. Il va ensuite donner le nombre de chiffres bien placés, et le nombre de chiffres mal placés. Le programme répète ces instructions tant que l'utilisateur ne trouve pas le bon nombre. Il affichera à la fin le nombre d'essais qu'il a fallu à l'utilisateur pour trouver.\n",
    "\n",
    "Consignes, aides et conseils:\n",
    "- Votre programme devra checker les inputs de l'utilsateur, tester si ils ont la bonne forme\n",
    "- un nombre aléatoire peut être générer via la fonction randint du module random. Il faut importer le model (import random) puis appeler la fonction randint de ce module (random.randint(nbmin, nbmax), nbmin et nbmax inclus).\n",
    "- faites attention au type utilisé\n",
    "\n",
    "Votre programme devra contenir 3 fonctions:\n",
    "- check_input qui testera le format de l'input de l'utilisateur\n",
    "- n_placed_and_n_wrongly_placed, qui déterminera le nombre de chiffres bien placés et le nombre de bons chiffres mal placés\n",
    "- mastermind, qui choisira un nombre à faire deviner, demandera à l'utilisateur son choix et fera appel aux autres fonctions"
   ]
  },
  {
   "cell_type": "code",
   "execution_count": 32,
   "metadata": {},
   "outputs": [],
   "source": [
    "def mastermind():\n",
    "    # votre programme\n",
    "    pass"
   ]
  },
  {
   "cell_type": "code",
   "execution_count": 33,
   "metadata": {},
   "outputs": [],
   "source": [
    "mastermind()"
   ]
  },
  {
   "cell_type": "markdown",
   "metadata": {},
   "source": [
    "## Exercice 9\n",
    "\n",
    "Même exercice que précédemment, mais vous pensez à un nombre à 5 chiffres et l'ordinateur essaye de le trouver. Il vous demandera à chaque fois le nombre de bien placés, et le nombre de bons chiffres mal placés.\n",
    "\n",
    "Aide: commencer par avoir un programme juste mais non efficace, et chercher à l'optimiser par la suite."
   ]
  },
  {
   "cell_type": "code",
   "execution_count": 35,
   "metadata": {},
   "outputs": [],
   "source": [
    "def mastermind_ai():\n",
    "    # Votre programme\n",
    "    pass"
   ]
  },
  {
   "cell_type": "code",
   "execution_count": 36,
   "metadata": {},
   "outputs": [],
   "source": [
    "mastermind_ai()"
   ]
  },
  {
   "cell_type": "code",
   "execution_count": null,
   "metadata": {},
   "outputs": [],
   "source": []
  },
  {
   "cell_type": "code",
   "execution_count": null,
   "metadata": {},
   "outputs": [],
   "source": []
  },
  {
   "cell_type": "code",
   "execution_count": null,
   "metadata": {},
   "outputs": [],
   "source": []
  },
  {
   "cell_type": "code",
   "execution_count": null,
   "metadata": {},
   "outputs": [],
   "source": []
  },
  {
   "cell_type": "markdown",
   "metadata": {},
   "source": [
    "# Solutions des exercices"
   ]
  },
  {
   "cell_type": "markdown",
   "metadata": {},
   "source": [
    "## Exercice 1"
   ]
  },
  {
   "cell_type": "code",
   "execution_count": 23,
   "metadata": {},
   "outputs": [],
   "source": [
    "#Q1\n",
    "def print_triple_sequence(first_term):\n",
    "    current_term = first_term\n",
    "    for _ in range(12):\n",
    "        print(current_term)\n",
    "        current_term *= 3\n",
    "\n",
    "\n",
    "#Q2\n",
    "def print_triple_sequence_user():\n",
    "    first_term = int(input('Please, enter the first term: '))\n",
    "    print_triple_sequence(first_term)"
   ]
  },
  {
   "cell_type": "code",
   "execution_count": 24,
   "metadata": {},
   "outputs": [
    {
     "name": "stdout",
     "output_type": "stream",
     "text": [
      "1\n",
      "3\n",
      "9\n",
      "27\n",
      "81\n",
      "243\n",
      "729\n",
      "2187\n",
      "6561\n",
      "19683\n",
      "59049\n",
      "177147\n",
      "Please, enter the first term: 10\n",
      "10\n",
      "30\n",
      "90\n",
      "270\n",
      "810\n",
      "2430\n",
      "7290\n",
      "21870\n",
      "65610\n",
      "196830\n",
      "590490\n",
      "1771470\n"
     ]
    }
   ],
   "source": [
    "print_triple_sequence(1)\n",
    "print_triple_sequence_user()"
   ]
  },
  {
   "cell_type": "markdown",
   "metadata": {},
   "source": [
    "## Exercice 2"
   ]
  },
  {
   "cell_type": "code",
   "execution_count": 21,
   "metadata": {},
   "outputs": [],
   "source": [
    "#Q1\n",
    "def print_result_sum(n):\n",
    "    result = 0\n",
    "    for i in range(n + 1):\n",
    "        result += i\n",
    "    print(f'La somme des entiers de 1 à {n} est {result}!')\n",
    "\n",
    "\n",
    "#Q2\n",
    "def print_sum(n):\n",
    "    result = 0\n",
    "    sum_as_string = \"\"\n",
    "    for i in range(1, n + 1):\n",
    "        if i != 1:\n",
    "            sum_as_string += ' + '\n",
    "        sum_as_string += str(i)\n",
    "        result += i\n",
    "    print(f'La somme des entiers de 1 à {n} est {sum_as_string} = {result}!')\n",
    "\n",
    "\n",
    "# Ou en trichant\n",
    "def print_sum2(n):\n",
    "    l_integers = list(range(1, n + 1))\n",
    "    print(f\"La somme des entiers de 1 à {n} est {' + '.join([str(i) for i in l_integers])} = {sum(l_integers)}!\")"
   ]
  },
  {
   "cell_type": "code",
   "execution_count": 22,
   "metadata": {},
   "outputs": [
    {
     "name": "stdout",
     "output_type": "stream",
     "text": [
      "La somme des entiers de 1 à 10 est 55!\n",
      "La somme des entiers de 1 à 10 est 1 + 2 + 3 + 4 + 5 + 6 + 7 + 8 + 9 + 10 = 55!\n",
      "La somme des entiers de 1 à 10 est 1 + 2 + 3 + 4 + 5 + 6 + 7 + 8 + 9 + 10 = 55!\n"
     ]
    }
   ],
   "source": [
    "print_result_sum(10)\n",
    "print_sum(10)\n",
    "print_sum2(10)"
   ]
  },
  {
   "cell_type": "markdown",
   "metadata": {},
   "source": [
    "## Exercice 3"
   ]
  },
  {
   "cell_type": "code",
   "execution_count": 19,
   "metadata": {},
   "outputs": [],
   "source": [
    "def is_concatenation(s):\n",
    "    if len(s) % 2:\n",
    "        return False\n",
    "    middle = len(s) // 2\n",
    "    for i in range(middle):\n",
    "        if s[i] != s[middle + i]:\n",
    "            return False\n",
    "    return True"
   ]
  },
  {
   "cell_type": "code",
   "execution_count": 20,
   "metadata": {},
   "outputs": [
    {
     "data": {
      "text/plain": [
       "(False, True)"
      ]
     },
     "execution_count": 20,
     "metadata": {},
     "output_type": "execute_result"
    }
   ],
   "source": [
    "is_concatenation(\"aababb\"), is_concatenation(\"aabaab\")"
   ]
  },
  {
   "cell_type": "markdown",
   "metadata": {},
   "source": [
    "## Exercice 4"
   ]
  },
  {
   "cell_type": "code",
   "execution_count": 17,
   "metadata": {},
   "outputs": [],
   "source": [
    "def min_max_mean(l):\n",
    "    current_min = l[0]\n",
    "    current_max = l[0]\n",
    "    current_mean = 0\n",
    "    for value in l:\n",
    "        current_min = min(current_min, value)\n",
    "        current_max = max(current_max, value)\n",
    "        current_mean += value\n",
    "    return current_min, current_max, current_mean / len(l)"
   ]
  },
  {
   "cell_type": "code",
   "execution_count": 18,
   "metadata": {},
   "outputs": [
    {
     "data": {
      "text/plain": [
       "(0.0, 20, 9.5)"
      ]
     },
     "execution_count": 18,
     "metadata": {},
     "output_type": "execute_result"
    }
   ],
   "source": [
    "min_max_mean([5.5, 10, 17, 20, 0., 4.5])"
   ]
  },
  {
   "cell_type": "markdown",
   "metadata": {},
   "source": [
    "## Exercice 5"
   ]
  },
  {
   "cell_type": "code",
   "execution_count": 44,
   "metadata": {},
   "outputs": [],
   "source": [
    "def print_mean():\n",
    "    grades = []\n",
    "    grade = float(input('Please enter next grade: '))\n",
    "    while grade >= 0:\n",
    "        grades.append(grade)\n",
    "        print(f'La moyenne est {sum(grades) / len(grades)}')\n",
    "        grade = float(input('Please enter next grade: '))"
   ]
  },
  {
   "cell_type": "code",
   "execution_count": 45,
   "metadata": {},
   "outputs": [
    {
     "name": "stdout",
     "output_type": "stream",
     "text": [
      "Please enter next grade: 3\n",
      "La moyenne est 3.0\n",
      "Please enter next grade: 1\n",
      "La moyenne est 2.0\n",
      "Please enter next grade: 9\n",
      "La moyenne est 4.333333333333333\n",
      "Please enter next grade: 0\n",
      "La moyenne est 3.25\n",
      "Please enter next grade: -1\n"
     ]
    }
   ],
   "source": [
    "print_mean()"
   ]
  },
  {
   "cell_type": "markdown",
   "metadata": {},
   "source": [
    "## Exercice 6"
   ]
  },
  {
   "cell_type": "code",
   "execution_count": 14,
   "metadata": {},
   "outputs": [],
   "source": [
    "def to_binary(n):\n",
    "    binary = ''\n",
    "    while n != 0:\n",
    "        binary = str(n % 2) + binary\n",
    "        n //= 2\n",
    "    return binary"
   ]
  },
  {
   "cell_type": "code",
   "execution_count": 15,
   "metadata": {},
   "outputs": [
    {
     "data": {
      "text/plain": [
       "'1000001'"
      ]
     },
     "execution_count": 15,
     "metadata": {},
     "output_type": "execute_result"
    }
   ],
   "source": [
    "to_binary(65)"
   ]
  },
  {
   "cell_type": "markdown",
   "metadata": {},
   "source": [
    "## Exercice 7"
   ]
  },
  {
   "cell_type": "code",
   "execution_count": 42,
   "metadata": {},
   "outputs": [],
   "source": [
    "def sort1(l):\n",
    "    l = l.copy()\n",
    "    elem_max = max(l)\n",
    "    answer = []\n",
    "    for _ in range(len(l)):\n",
    "        current_min = elem_max\n",
    "        for i, elem in enumerate(l):\n",
    "            if elem < current_min:\n",
    "                current_min = elem\n",
    "                position_of_min = i\n",
    "        l[position_of_min] = elem_max\n",
    "        answer.append(current_min)\n",
    "    return answer\n",
    "\n",
    "\n",
    "def sort2(l):\n",
    "    is_sorted = False\n",
    "    while not is_sorted:\n",
    "        is_sorted = True\n",
    "        for i in range(len(l) - 1):\n",
    "            if l[i] > l[i + 1]:\n",
    "                is_sorted = False\n",
    "                tmp = l[i]\n",
    "                l[i] = l[i + 1]\n",
    "                l[i + 1] = tmp\n",
    "    return l"
   ]
  },
  {
   "cell_type": "code",
   "execution_count": 43,
   "metadata": {},
   "outputs": [
    {
     "name": "stdout",
     "output_type": "stream",
     "text": [
      "[47, 34, 24, 33, 91, 30, 89, 3, 73, 47, 34, 67, 38, 42, 78, 68, 86, 82, 39, 87]\n",
      "[3, 24, 30, 33, 34, 34, 38, 39, 42, 47, 47, 67, 68, 73, 78, 82, 86, 87, 89, 91]\n",
      "[3, 24, 30, 33, 34, 34, 38, 39, 42, 47, 47, 67, 68, 73, 78, 82, 86, 87, 89, 91]\n"
     ]
    }
   ],
   "source": [
    "import random\n",
    "l = [random.randint(0, 99) for _ in range(20)]\n",
    "print(l)\n",
    "print(sort1(l))\n",
    "print(sort2(l))"
   ]
  },
  {
   "cell_type": "markdown",
   "metadata": {},
   "source": [
    "## Exercice 8"
   ]
  },
  {
   "cell_type": "code",
   "execution_count": 47,
   "metadata": {},
   "outputs": [],
   "source": [
    "import random\n",
    "\n",
    "\n",
    "def check_input(user_in):\n",
    "    # Check if the input is 5 integers\n",
    "    if len(user_in) != 5:\n",
    "        return False\n",
    "    for char in user_in:\n",
    "        try:\n",
    "            int(char)\n",
    "        except Exception:\n",
    "            return False\n",
    "    return True\n",
    "\n",
    "\n",
    "def n_placed_and_n_wrongly_placed(answer, guess):\n",
    "    # Compute the number of good placed guesses and the number of wrongly placed good guesses\n",
    "    used = [False] * 5\n",
    "    n_placed = 0\n",
    "    n_good = 0\n",
    "    for i, elem in enumerate(guess):\n",
    "        if answer[i] == elem:\n",
    "            if used[i]:\n",
    "                n_good -= 1\n",
    "                n_placed += 1\n",
    "            else:\n",
    "                used[i] = True\n",
    "                n_placed += 1\n",
    "        else:\n",
    "            for j in range(5):\n",
    "                if not used[j] and answer[j] == elem:\n",
    "                    used[j] = True\n",
    "                    n_good += 1\n",
    "                    break\n",
    "    return n_placed, n_good\n",
    "\n",
    "\n",
    "def mastermind():\n",
    "    # Game function\n",
    "    answer = ''.join([str(random.randint(0, 9)) for _ in range(5)])\n",
    "    n_try = 0\n",
    "    guess = ''\n",
    "    while guess != answer:\n",
    "        n_try += 1\n",
    "        guess = input('Quelle est votre proposition ?\\n')\n",
    "        while not check_input(guess):\n",
    "            guess = input('Entrez un nombre à 5 chiffres: ')\n",
    "        n_placed, n_good = n_placed_and_n_wrongly_placed(answer, guess)\n",
    "        print(f'Vous avez {n_placed} chiffres bien placés '\n",
    "              f'et {n_good} chiffres bons mais mal placés.')\n",
    "    print(f'Gagné en {n_try} essais.')"
   ]
  },
  {
   "cell_type": "code",
   "execution_count": 48,
   "metadata": {},
   "outputs": [
    {
     "name": "stdout",
     "output_type": "stream",
     "text": [
      "Quelle est votre proposition ?\n",
      "11111\n",
      "Vous avez 0 chiffres bien placés et 0 chiffres bons mais mal placés.\n",
      "Quelle est votre proposition ?\n",
      "22222\n",
      "Vous avez 0 chiffres bien placés et 0 chiffres bons mais mal placés.\n",
      "Quelle est votre proposition ?\n",
      "33333\n",
      "Vous avez 1 chiffres bien placés et 0 chiffres bons mais mal placés.\n",
      "Quelle est votre proposition ?\n",
      "34444\n",
      "Vous avez 0 chiffres bien placés et 1 chiffres bons mais mal placés.\n",
      "Quelle est votre proposition ?\n",
      "53555\n",
      "Vous avez 0 chiffres bien placés et 2 chiffres bons mais mal placés.\n",
      "Quelle est votre proposition ?\n",
      "65366\n",
      "Vous avez 2 chiffres bien placés et 2 chiffres bons mais mal placés.\n",
      "Quelle est votre proposition ?\n",
      "053000\n",
      "Entrez un nombre à 5 chiffres: 05300\n",
      "Vous avez 1 chiffres bien placés et 1 chiffres bons mais mal placés.\n",
      "Quelle est votre proposition ?\n",
      "65737\n",
      "Vous avez 2 chiffres bien placés et 1 chiffres bons mais mal placés.\n",
      "Quelle est votre proposition ?\n",
      "65883\n",
      "Vous avez 1 chiffres bien placés et 2 chiffres bons mais mal placés.\n",
      "Quelle est votre proposition ?\n",
      "65993\n",
      "Vous avez 1 chiffres bien placés et 3 chiffres bons mais mal placés.\n",
      "Quelle est votre proposition ?\n",
      "65973\n",
      "Vous avez 1 chiffres bien placés et 3 chiffres bons mais mal placés.\n",
      "Quelle est votre proposition ?\n",
      "65983\n",
      "Vous avez 1 chiffres bien placés et 3 chiffres bons mais mal placés.\n",
      "Quelle est votre proposition ?\n",
      "6596\n",
      "Entrez un nombre à 5 chiffres: 65863\n",
      "Vous avez 1 chiffres bien placés et 3 chiffres bons mais mal placés.\n",
      "Quelle est votre proposition ?\n",
      "65963\n",
      "Vous avez 1 chiffres bien placés et 4 chiffres bons mais mal placés.\n",
      "Quelle est votre proposition ?\n",
      "95663\n",
      "Vous avez 3 chiffres bien placés et 2 chiffres bons mais mal placés.\n",
      "Quelle est votre proposition ?\n",
      "95636\n",
      "Vous avez 5 chiffres bien placés et 0 chiffres bons mais mal placés.\n",
      "Gagné en 16 essais.\n"
     ]
    }
   ],
   "source": [
    "mastermind()"
   ]
  },
  {
   "cell_type": "markdown",
   "metadata": {},
   "source": [
    "## Exercice 9"
   ]
  },
  {
   "cell_type": "code",
   "execution_count": 49,
   "metadata": {},
   "outputs": [],
   "source": [
    "def ask_answer(guess):\n",
    "    print(f'Je pense à {guess}.')\n",
    "    n_good = int(input('Combien sont bien placés ? '))\n",
    "    n_placed = int(input('Combien sont mal placés ? '))\n",
    "    return n_good, n_placed\n",
    "\n",
    "\n",
    "# Version non optimisée\n",
    "def mastermind_ai():\n",
    "    print('Pensez à un nombre')\n",
    "    n_trash = 0\n",
    "    while ask_answer(str(n_trash) * 5) != (0, 0):\n",
    "        n_trash += 1\n",
    "    good_answer = [n_trash] * 5\n",
    "    for i in range(10):\n",
    "        if i == n_trash:\n",
    "            continue\n",
    "        for j in range(5):\n",
    "            guess = [str(n_trash)] * 5\n",
    "            guess[j] = str(i)\n",
    "            if ask_answer(''.join(guess))[0]:\n",
    "                good_answer[j] = str(i)\n",
    "    print(f\"Vous pensez à {''.join(good_answer)}!\")\n",
    "\n",
    "\n",
    "# Mieux mais loin d'être parfait\n",
    "def mastermind_ai():\n",
    "    print('Pensez à un nombre')\n",
    "    n_trash = 0\n",
    "    while ask_answer(str(n_trash) * 5) != (0, 0):\n",
    "        n_trash += 1\n",
    "    good_answer = [n_trash] * 5\n",
    "    for i in range(10):\n",
    "        if i == n_trash:\n",
    "            continue\n",
    "        to_place = ask_answer(str(i) * 5)[0]\n",
    "        if to_place == 0:\n",
    "            continue\n",
    "        for j in range(5):\n",
    "            guess = [str(n_trash)] * 5\n",
    "            guess[j] = str(i)\n",
    "            if ask_answer(''.join(guess))[0]:\n",
    "                good_answer[j] = str(i)\n",
    "                to_place -= 1\n",
    "                if to_place == 0:\n",
    "                    break\n",
    "        if n_trash not in good_answer:\n",
    "            break\n",
    "    print(f\"Vous pensez à {''.join(good_answer)}!\")"
   ]
  }
 ],
 "metadata": {
  "kernelspec": {
   "display_name": "Python 3",
   "language": "python",
   "name": "python3"
  },
  "language_info": {
   "codemirror_mode": {
    "name": "ipython",
    "version": 3
   },
   "file_extension": ".py",
   "mimetype": "text/x-python",
   "name": "python",
   "nbconvert_exporter": "python",
   "pygments_lexer": "ipython3",
   "version": "3.8.6"
  }
 },
 "nbformat": 4,
 "nbformat_minor": 2
}
