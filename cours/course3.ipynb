{
 "cells": [
  {
   "cell_type": "markdown",
   "metadata": {},
   "source": [
    "# Cours 3: Fonction et récursion"
   ]
  },
  {
   "cell_type": "markdown",
   "metadata": {},
   "source": [
    "**Objectif :** Le but de ce cours est de vous présenter le système de fonction, et les subtilités qui vont avec. Nous aborderons aussi les dictionnaires.\n",
    "\n",
    "## 1. Définir une fonction\n",
    "Les fonctions servent à éviter le copier coller de code. Typiquement, dans les TDs précédents, nous avons utilisé à moulte reprises une ligne de code servant à demander un entier à l'utilisateur, et le traiter comme un entier et non une chaine de caractères. Pour éviter de réécrire cette ligne plusieurs fois, nous aurions pu créer une fonction ```ask_int``` comme suit:"
   ]
  },
  {
   "cell_type": "code",
   "execution_count": 1,
   "metadata": {},
   "outputs": [],
   "source": [
    "def ask_int(description):\n",
    "    result = input(description)\n",
    "    return int(result)"
   ]
  },
  {
   "cell_type": "markdown",
   "metadata": {},
   "source": [
    "Ainsi, nous aurions pu écrire ```n = ask_int('Entrer un entier: )``` au lieu de ```n = int(input('Entrer un entier'))```. Du point de vue de l'ordinateur, cela ne change rien. Pour ce cas précis, cela ne change que très peu de chose pour le codeur.\n",
    "\n",
    "Cependant, si nous voulons tester dans le même temps si l'utilisateur à bien entrer un entier, nous pouvons le faire dans la définition de la fonction, et cela n'aura aucun effet sur la lisibilité du code lors de l'appel de cette fonction."
   ]
  },
  {
   "cell_type": "code",
   "execution_count": 2,
   "metadata": {},
   "outputs": [],
   "source": [
    "def ask_int(description):\n",
    "    result = input(description)\n",
    "    while not result.isnumeric():\n",
    "        print(\"Ceci n'est pas un entier\")\n",
    "        result = input(description)\n",
    "    return int(result)"
   ]
  },
  {
   "cell_type": "markdown",
   "metadata": {},
   "source": [
    "Décrivons exactement les lignes de codes que nous avons écrites:\n",
    "* Le mot clef `def` indique le début de la définition de la fonction. Il est suivi du nom de la fonction (`ask_int`) et des arguments qu'elle recoit. Cette première ligne ce finit par `:`, et suivantes auront donc une indentation.\n",
    "* Les lignes suivantes sont les opérations effectuées chaque fois que cette fonction est appelée. Les variables définit dans cette partie ne seront pas accessible en dehors de la définition de la fonction.\n",
    "* Enfin, le mot clef `return` indique le résultat de la fonction, ce qu'elle renvoie. `return` interrompt l'execution de la fonction, les lignes écrites après ne seront pas éxécutées.\n",
    "    \n",
    "Pour illustrer ce que nous avons vu, voici un exemple:"
   ]
  },
  {
   "cell_type": "code",
   "execution_count": 3,
   "metadata": {},
   "outputs": [
    {
     "name": "stdout",
     "output_type": "stream",
     "text": [
      "x vaut 25, result vaut 5\n"
     ]
    }
   ],
   "source": [
    "result = 5\n",
    "\n",
    "def foo(x):\n",
    "    result = x**2\n",
    "    return result\n",
    "    print('Ceci ne sera pas affiché!')\n",
    "\n",
    "x = foo(5)\n",
    "print(f'x vaut {x}, result vaut {result}')"
   ]
  },
  {
   "cell_type": "markdown",
   "metadata": {},
   "source": [
    "Il convient de préciser qu'une fonction, une fois définie, n'exécute pas le code qu'elle possède à l'intérieur de sa définition ! Un exemple pour illustrer ceci :"
   ]
  },
  {
   "cell_type": "code",
   "execution_count": 4,
   "metadata": {},
   "outputs": [
    {
     "name": "stdout",
     "output_type": "stream",
     "text": [
      "Aucune erreur pour l'instant, mais cela ne va pas tarder\n"
     ]
    },
    {
     "ename": "NameError",
     "evalue": "name 'bonjour' is not defined",
     "output_type": "error",
     "traceback": [
      "\u001b[0;31m---------------------------------------------------------------------------\u001b[0m",
      "\u001b[0;31mNameError\u001b[0m                                 Traceback (most recent call last)",
      "\u001b[0;32m<ipython-input-4-ebf4b2b967da>\u001b[0m in \u001b[0;36m<module>\u001b[0;34m\u001b[0m\n\u001b[1;32m      5\u001b[0m \u001b[0;34m\u001b[0m\u001b[0m\n\u001b[1;32m      6\u001b[0m \u001b[0mprint\u001b[0m\u001b[0;34m(\u001b[0m\u001b[0;34m\"Aucune erreur pour l'instant, mais cela ne va pas tarder\"\u001b[0m\u001b[0;34m)\u001b[0m\u001b[0;34m\u001b[0m\u001b[0;34m\u001b[0m\u001b[0m\n\u001b[0;32m----> 7\u001b[0;31m \u001b[0mfoo\u001b[0m\u001b[0;34m(\u001b[0m\u001b[0;36m3\u001b[0m\u001b[0;34m)\u001b[0m\u001b[0;34m\u001b[0m\u001b[0;34m\u001b[0m\u001b[0m\n\u001b[0m",
      "\u001b[0;32m<ipython-input-4-ebf4b2b967da>\u001b[0m in \u001b[0;36mfoo\u001b[0;34m(x)\u001b[0m\n\u001b[1;32m      1\u001b[0m \u001b[0;32mdef\u001b[0m \u001b[0mfoo\u001b[0m\u001b[0;34m(\u001b[0m\u001b[0mx\u001b[0m\u001b[0;34m)\u001b[0m\u001b[0;34m:\u001b[0m\u001b[0;34m\u001b[0m\u001b[0;34m\u001b[0m\u001b[0m\n\u001b[0;32m----> 2\u001b[0;31m     \u001b[0mbonjour\u001b[0m \u001b[0;34m+\u001b[0m \u001b[0;34m\"à tous\"\u001b[0m \u001b[0;34m/\u001b[0m \u001b[0;36m12\u001b[0m \u001b[0;34m-\u001b[0m \u001b[0;34m[\u001b[0m\u001b[0;34m\"a\"\u001b[0m\u001b[0;34m,\u001b[0m \u001b[0;36m13\u001b[0m\u001b[0;34m]\u001b[0m\u001b[0;34m\u001b[0m\u001b[0;34m\u001b[0m\u001b[0m\n\u001b[0m\u001b[1;32m      3\u001b[0m     \u001b[0mresult\u001b[0m \u001b[0;34m=\u001b[0m \u001b[0mx\u001b[0m\u001b[0;34m**\u001b[0m\u001b[0;36m2\u001b[0m\u001b[0;34m\u001b[0m\u001b[0;34m\u001b[0m\u001b[0m\n\u001b[1;32m      4\u001b[0m     \u001b[0;32mreturn\u001b[0m \u001b[0mresult\u001b[0m\u001b[0;34m\u001b[0m\u001b[0;34m\u001b[0m\u001b[0m\n\u001b[1;32m      5\u001b[0m \u001b[0;34m\u001b[0m\u001b[0m\n",
      "\u001b[0;31mNameError\u001b[0m: name 'bonjour' is not defined"
     ]
    }
   ],
   "source": [
    "def foo(x):\n",
    "    bonjour + \"à tous\" / 12 - [\"a\", 13]\n",
    "    result = x**2\n",
    "    return result\n",
    "\n",
    "print(\"Aucune erreur pour l'instant, mais cela ne va pas tarder\")\n",
    "foo(3)"
   ]
  },
  {
   "cell_type": "markdown",
   "metadata": {},
   "source": [
    "Il s'agit d'une définition théorique de la fonction, qui fonctionnera tant qu'elle ne contiendra pas d'erreur de syntaxe. C'est uniquement lorsque vous appelez cette fonction avec des paramètres en entrée que le code qui la compose sera exécuté."
   ]
  },
  {
   "cell_type": "markdown",
   "metadata": {},
   "source": [
    "## 2. Les arguments et les keywords arguments\n",
    "\n",
    "Une fonction peut n'avoir aucun argument:\n",
    "\n",
    "```python\n",
    "def foo():\n",
    "    # les instructions\n",
    "    # return si besoin\n",
    "```\n",
    "\n",
    "On peut passer un ou plusieurs arguments à une fonction en les séparant par une virgule:\n",
    "\n",
    "```python\n",
    "def foo(arg1, arg2, arg3):\n",
    "    # les instructions\n",
    "    result = ...\n",
    "    return result\n",
    "```\n",
    "\n",
    "De plus, on peut donner aux variables des valeurs par défaut comme ceci:\n",
    "\n",
    "```python\n",
    "def bar(arg1, arg2=val2, arg3=val3):\n",
    "    result = ...\n",
    "    return result\n",
    "```\n",
    "\n",
    "Ici, si `bar` est appelé avec un seul argument, elle sera exécutée avec `val2` comme valeur pour `arg2` et `val3` comme valeur pour `arg3`. Si `bar` est appelé avec deux arguments, alors `arg3` prendra sa valeur par défaut. Il est néanmoins possible de donner une valeur à `arg3` sans en donner à `arg2` en écrivant `arg3=...` lors de l'appel de la fonction.\n",
    "\n",
    "Petit récapitulatif des différentes possibilités pour appeler la fonction `bar`:\n",
    "\n",
    "```python\n",
    "bar(x1, x2, x3) = bar(arg1=x1, arg2=x2, arg3=x3)\n",
    "bar(x1) = bar(x1, val2, val3)\n",
    "bar(x1, x2) = bar(x1, arg2=x2) = bar(x1, x2, val3)\n",
    "bar(x1, arg3=x3) = bar(x1, val2, x3)\n",
    "```\n",
    "\n",
    "**Attention**: l'ordre des arguments est très importants, puisque c'est lui qui désigne à quelle variable vous attribuez une valeur.\n",
    "\n",
    "Les arguments ayant une valeur par défaut sont appelés keywords arguments, ou kwargs. Il n'est pas possible de mettre un argument après un keyword argument."
   ]
  },
  {
   "cell_type": "markdown",
   "metadata": {},
   "source": [
    "## 3. Module et package\n",
    "\n",
    "Les fonctions que vous définissez ne sont pas forcément à mettre dans le même fichier/notebook que celui que vous travaillez. Vous pouvez les mettre dans un fichier séparé et les importer. Par exemple, si au même niveau d'arborescence que ce notebook, vous créez un fichier `file1.py` et que dans ce fichier, vous créez une fonction `foo`, vous pourrez y accéder grâce au mot clef `import`:\n",
    "\n",
    "```python\n",
    "from file1 import foo\n",
    "\n",
    "foo(args)\n",
    "```\n",
    "\n",
    "ou bien\n",
    "\n",
    "```python\n",
    "import file1\n",
    "\n",
    "file1.foo(args)\n",
    "```\n",
    "\n",
    "Les imports sont généralement mis en début de fichier. Pour les notebooks, cela dépend des personnes. En tout cas, il est préférable de les mettre en haut de cellule.\n",
    "\n",
    "Dans python, il existe de nombreux packages. Ceux-ci fournissent de précieuses fonctions. Ils s'importent de la même facon que vos modules. De plus, il peut y avoir plusieurs niveaux de hiérarchie dans ce package. Prenons comme exemple la bibliothèque matplotlib. Matplotlib est une bibliothèque permettant de faire des graphiques simplement. On travaille avec le package pyplot contenu dans cette bibliothèque (que l'on renomme plt pour faire cours grâce au mot clef `as`)"
   ]
  },
  {
   "cell_type": "code",
   "execution_count": 5,
   "metadata": {},
   "outputs": [],
   "source": [
    "import matplotlib.pyplot as plt\n",
    "# Ou alors\n",
    "from matplotlib import pyplot as plt"
   ]
  },
  {
   "cell_type": "markdown",
   "metadata": {},
   "source": [
    "Maintenant, pyplot est aussi un package, contenant lui même des fonctions. Par exemple, pour faire un tracé simple, on peut utiliser la fonction `plot` de pyplot."
   ]
  },
  {
   "cell_type": "code",
   "execution_count": 6,
   "metadata": {},
   "outputs": [
    {
     "data": {
      "text/plain": [
       "[<matplotlib.lines.Line2D at 0x11c9efd30>]"
      ]
     },
     "execution_count": 6,
     "metadata": {},
     "output_type": "execute_result"
    },
    {
     "data": {
      "image/png": "[encoded data removed]",
      "text/plain": [
       "<Figure size 432x288 with 1 Axes>"
      ]
     },
     "metadata": {
      "needs_background": "light"
     },
     "output_type": "display_data"
    }
   ],
   "source": [
    "plt.plot([i for i in range(-10, 11)], [i*i for i in range(-10, 11)])"
   ]
  },
  {
   "cell_type": "markdown",
   "metadata": {},
   "source": [
    "Nous aurion aussi pu charger uniquement la fonction plot. Pour ce faire, il faut séparer les packages imbriqués par des points `.`.\n",
    "\n",
    "```python\n",
    "from matplotlib.pyplot import plot\n",
    "```\n",
    "\n",
    "Si on a besoin de plusieurs fonctions de pyplot, on peut les importer en une seule ligne en les séparant par des virgules `,`."
   ]
  },
  {
   "cell_type": "markdown",
   "metadata": {},
   "source": [
    "Nous venons de voir une fonction dans un package dans un package. Néanmoins, il est possible que l'arborescence soit bien plus complexe, et d'avoir trois ou quatres packages imbriqués. Cela sert à garder son code le plus compréhensible possible.\n",
    "\n",
    "Pour faire de même, il vous suffit de créer des dossiers, puis des fichiers contenant des fonctions dans ces dossiers. Si vous avez un dossier `mon_package` contenant les fichers `mon_module1.py` et `mon_module2.py`, eux-mêmes contenant des fonctions, vous pourrez les appeler de la même facon que pyplot.\n",
    "\n",
    "**Attention aux conflits de nom:** si vous avez dans ces deux fichiers une fonction foo, vous ne pourrez charger les deux comme suit:\n",
    "\n",
    "```python\n",
    "from mon_package.mon_module1 import foo\n",
    "from mon_package.mon_module2 import foo\n",
    "```\n",
    "\n",
    "La première ne sera pas chargée. Cependant, ceci est possible:\n",
    "\n",
    "```python\n",
    "from mon_package import mon_module1, mon_module2\n",
    "\n",
    "mon_module1.foo(args)\n",
    "mon_module2.foo(args)\n",
    "```"
   ]
  },
  {
   "cell_type": "markdown",
   "metadata": {},
   "source": [
    "# 4. Les dictionnaires\n",
    "\n",
    "Nous avons vu dans le cours précédent les listes. Celles-ci sont très utiles, mais elles peuvent se révéler insuffisantes.\n",
    "\n",
    "Prenons un exemple. Nous voulons garder en mémoire le nom des élèves ainsi que leur email. En utilisant des listes, il faut une liste pour les noms et une liste pour les emails:\n",
    "\n",
    "```python\n",
    "names = ['Benoit', 'Jean', 'Pierre']\n",
    "emails = ['email.benoit@gmail.com', 'email.jean@gmail.com', 'email.pierre@gmail.com']\n",
    "```\n",
    "\n",
    "Ceci fonctionne, mais n'est pas pratique. Si nous voulons l'email de Pierre, nous devons trouver l'index associé dans la liste des noms, puis l'email dans la liste des emails.\n",
    "\n",
    "Pour gérer les cas comme celui-ci, nous avons à notre disposition des dictionnaires. Un dictionnaire est constitué de pairs <Clef, Valeur>. Les clefs doivent être du même type, les valeurs aussi, mais le type des clefs peut être différent du type des valeurs. Reprenons l'exemple précédent:\n",
    "\n",
    "```python\n",
    "name_to_email = {\n",
    "    'Benoit': 'email.benoit@gmail.com',\n",
    "    'Jean': 'email.jean@gmail.com',\n",
    "    'Pierre': 'email.pierre@gmail.com'\n",
    "}\n",
    "```\n",
    "\n",
    "Ici, nous avons un dictionnaire associant aux noms des élèves leur email. Les clefs sont les noms, les valeurs sont les emails. Nous pouvons accéder à l'email de Pierre comme suit:\n",
    "\n",
    "```python\n",
    "name_to_email['Pierre']\n",
    "```\n",
    "\n",
    "Nous pourrons aussi tester si nous avons l'email d'un élève, disons Simon, comme suit:\n",
    "```python\n",
    "'Simon' in name_to_email\n",
    "```\n",
    "\n",
    "Les dictionnaires sont définis entre accolades `{}`. On écrit entre ces accolades les pairs <Clef, Valeur> séparer par des virgules. Une clef et une valeur sont séparées par deux points `:`.\n",
    "\n",
    "Voici maintenant une liste non exhaustive des possibilités avec les dictionnaires:"
   ]
  },
  {
   "cell_type": "code",
   "execution_count": 7,
   "metadata": {},
   "outputs": [
    {
     "name": "stdout",
     "output_type": "stream",
     "text": [
      "A is not in counter\n",
      "counter['B'] vaut 5\n",
      "counter['B'] vaut 10\n",
      "counter['B'] vaut 2\n",
      "Bouclons sur les clefs\n",
      "A\n",
      "B\n",
      "Bouclons sur les valeurs\n",
      "10\n",
      "2\n",
      "Bouclons sur les clefs et les valeurs\n",
      "A 10\n",
      "B 2\n"
     ]
    }
   ],
   "source": [
    "counter = {}  # Dictionnaire vide\n",
    "\n",
    "if 'A' in counter:  # Test si 'A' est dans le dictionnaire\n",
    "    print('A is in counter')\n",
    "else:\n",
    "    print('A is not in counter')\n",
    "    \n",
    "counter['A'] = 10  # Associe la valeur 10 à la clef 'A'\n",
    "\n",
    "# La méthode get permet de prendre la valeur associée à une clef si celle-ci est dans le dictionnaire\n",
    "# ou une valeur par défaut si celle-ci n'est pas dedans.\n",
    "counter['B'] = counter.get('B', 0) + 5\n",
    "print(f\"counter['B'] vaut {counter['B']}\")\n",
    "counter['B'] = counter.get('B', 0) + 5\n",
    "print(f\"counter['B'] vaut {counter['B']}\")\n",
    "      \n",
    "# On peut modifier une valeur\n",
    "counter['B'] = 2\n",
    "print(f\"counter['B'] vaut {counter['B']}\")\n",
    "\n",
    "# On peut boucler sur les clefs\n",
    "print('Bouclons sur les clefs')\n",
    "for key in counter.keys():\n",
    "      print(key)\n",
    "# ou sur les valeurs\n",
    "print('Bouclons sur les valeurs')\n",
    "for value in counter.values():\n",
    "      print(value)\n",
    "# ou sur les deux\n",
    "print('Bouclons sur les clefs et les valeurs')\n",
    "for key, value in counter.items():\n",
    "      print(key, value)"
   ]
  },
  {
   "cell_type": "code",
   "execution_count": null,
   "metadata": {},
   "outputs": [],
   "source": []
  }
 ],
 "metadata": {
  "kernelspec": {
   "display_name": "Python 3",
   "language": "python",
   "name": "python3"
  },
  "language_info": {
   "codemirror_mode": {
    "name": "ipython",
    "version": 3
   },
   "file_extension": ".py",
   "mimetype": "text/x-python",
   "name": "python",
   "nbconvert_exporter": "python",
   "pygments_lexer": "ipython3",
   "version": "3.8.6"
  }
 },
 "nbformat": 4,
 "nbformat_minor": 2
}
