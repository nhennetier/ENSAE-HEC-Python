{
 "cells": [
  {
   "cell_type": "markdown",
   "metadata": {},
   "source": [
    "# Cours 1: Premiers pas en python"
   ]
  },
  {
   "cell_type": "markdown",
   "metadata": {},
   "source": [
    "**Objectif :** Le but de ce cours est de vous présenter rapidement python, ainsi que les bases du langage.\n",
    "\n",
    "## 1. Qu'est-ce que python ?\n",
    "\n",
    "Python est un langage de programmation, c'est à dire un langage qui permet la communication entre les humains et les machines. Il est plutôt simple d'utilisation (l'ordinateur fera beaucoup de choses pour vous), libre, gratuit et portable sur tous les systèmes d'exploitation.\n",
    "\n",
    "De plus en plus de personnes codent en python, et la communauté est très active. Du coup, si vous avez une question, n'hésitez pas à aller chercher sur internet, la réponse a très certainement déjà été donnée.\n",
    "\n",
    "Pour jouer avec python nous allons écrire des programmes. Un programme est une suite d'instructions que l'ordinateur exécutera séquentiellement. Le bloc note de windows pourrait suffire à écrire des programmes, mais des outils ont été développés pour vous faciliter la tâche. Nous utiliserons essentiellement Jupyter Notebook (ce support est un notebook), mais vous pouvez utiliser d'autres outils pour écrire votre code.\n",
    "\n",
    "Il existe de nombreux types de langages de programmation, que nous n'allons pas explorer dans ce cours. Mais pour comprendre ce qui caractérise python par rapport aux autres langages, regardons sa description sur Wikipédia :"
   ]
  },
  {
   "cell_type": "markdown",
   "metadata": {},
   "source": [
    "*Python is an interpreted high-level general-purpose programming language. Its design philosophy emphasizes code readability with its use of significant indentation. Its language constructs as well as its object-oriented approach aim to help programmers write clear, logical code for small and large-scale projects.*\n",
    "\n",
    "*Python is dynamically-typed and garbage-collected. It supports multiple programming paradigms, including structured (particularly, procedural), object-oriented and functional programming. It is often described as a \"batteries included\" language due to its comprehensive standard library.*"
   ]
  },
  {
   "cell_type": "markdown",
   "metadata": {},
   "source": [
    "- Interpreted: vous écrivez des commandes, l'ordinateur les éxecute au fur et à mesure qu'il parcourt le programme, sans analyser l'ensemble du programme au départ. S'oppose en général aux langages compilés (C, C++...) qui prenennt la totalité du programme et le transforment en langage \"machine\" avant de pouvoir l'éxecuter. La différence fondamentale pour nous: si vous avez une erreur à la ligne 50 de votre code python, le code ne va s'en rendre compte qu'en arrivant à cette ligne (sauf s'il s'agit d'un problème d'identation).\n",
    "\n",
    "- Readability, indentation: certaines expression en python nécessitent d'effectuer un retour à la ligne avec identation de 4 espaces (pas un de plus ou de moins). Si vous ne le faites pas, le code ne marchera pas, mais ca facilite grandement la lecture du code, on en est plutôt content.\n",
    "\n",
    "- Object-oriented: on va pouvoir créer des objets au sein de notre code, c'est-à-dire des petites capsules qui contiendront à la fois des data et des instructions, et qu'on pourra utiliser comme une entité à part entière. Plus de détails dans la suite du cours.\n",
    "\n",
    "- Garbage-collected: python fait le ménage à notre place une fois que le code a terminé de s'éxecuter (data dans la mémoire de l'ordinateur, variables créées...), et ça on en est vraiment content.\n",
    "\n",
    "- Functional: on va également pouvoir créer des fonctions, ie des petits bouts de code à réutiliser à volonté comme des boites noires, qui prennent des entrées et nous renvoient des sorties"
   ]
  },
  {
   "cell_type": "markdown",
   "metadata": {},
   "source": [
    "De plus, la majorité de vos commandes en python (sauf en utilisant des fonctions plus élaborées) seront synchrones, c'est-à-dire que le code attendra qu'une ligne ait terminé son éxecution avant de passer à la suite. Ce n'est pas le cas dans tous les langages (comme Javascript par exemple pour faire des sites internet), qui peut réaliser plusieurs choses à la fois de manière native."
   ]
  },
  {
   "cell_type": "markdown",
   "metadata": {},
   "source": [
    "## 2. Premier pas en python\n",
    "\n",
    "Commençons à coder. Tout d'abord, il faut savoir que chaque ligne de votre programme sera exécuté. Par conséquent, si vous voulez ajouter des explications, il faut explicitement dire à l'ordinateur de ne pas lire celles-ci. Pour cela, on n'utilise le symbole `#`."
   ]
  },
  {
   "cell_type": "code",
   "execution_count": 1,
   "metadata": {},
   "outputs": [],
   "source": [
    "# Ceci n'est pas exécuté par l'ordinateur"
   ]
  },
  {
   "cell_type": "code",
   "execution_count": 1,
   "metadata": {},
   "outputs": [
    {
     "ename": "SyntaxError",
     "evalue": "invalid syntax (<ipython-input-1-25229f610db5>, line 1)",
     "output_type": "error",
     "traceback": [
      "\u001b[0;36m  File \u001b[0;32m\"<ipython-input-1-25229f610db5>\"\u001b[0;36m, line \u001b[0;32m1\u001b[0m\n\u001b[0;31m    Ceci est exécuté et produit une erreur, mais ne marche pas\u001b[0m\n\u001b[0m         ^\u001b[0m\n\u001b[0;31mSyntaxError\u001b[0m\u001b[0;31m:\u001b[0m invalid syntax\n"
     ]
    }
   ],
   "source": [
    "Ceci est exécuté et produit une erreur, mais ne marche pas"
   ]
  },
  {
   "cell_type": "markdown",
   "metadata": {},
   "source": [
    "Si vous omettez le `#`, l'ordinateur ne comprendra pas la commande à exécuter, et retournera une erreur. Maintenant que cela est dit, nous pouvons écrire notre 'vraie' première ligne de code. Par tradition de geek, demandons à l'ordinateur de dire bonjour."
   ]
  },
  {
   "cell_type": "code",
   "execution_count": 2,
   "metadata": {},
   "outputs": [
    {
     "name": "stdout",
     "output_type": "stream",
     "text": [
      "Hello World!\n"
     ]
    }
   ],
   "source": [
    "print('Hello World!') # Affiche la chaine 'Hello Word!'"
   ]
  },
  {
   "cell_type": "markdown",
   "metadata": {},
   "source": [
    "Cette ligne fait appel à une fonction fournie par les développeurs de python, la fonction `print`. Celle-ci permet d'afficher à l'écran quelque chose. Ici, je lui demande d'afficher le texte `'Hello World!'`, ce qu'il fait. Notez bien les guillemets `'` (qui auraient pu être remplacées par des doubles guillemets `\"`, c'est équivalent). Celles-ci indique que nous faisons référence à du texte et non à un objet en mémoire.\n",
    "\n",
    "Pour clarifier cela, demandons d'afficher `a` à l'ordinateur:"
   ]
  },
  {
   "cell_type": "code",
   "execution_count": 4,
   "metadata": {},
   "outputs": [
    {
     "ename": "NameError",
     "evalue": "name 'a' is not defined",
     "output_type": "error",
     "traceback": [
      "\u001b[0;31m---------------------------------------------------------------------------\u001b[0m",
      "\u001b[0;31mNameError\u001b[0m                                 Traceback (most recent call last)",
      "\u001b[0;32m<ipython-input-4-30eb5d661039>\u001b[0m in \u001b[0;36m<module>\u001b[0;34m\u001b[0m\n\u001b[0;32m----> 1\u001b[0;31m \u001b[0mprint\u001b[0m\u001b[0;34m(\u001b[0m\u001b[0ma\u001b[0m\u001b[0;34m)\u001b[0m \u001b[0;31m# Renvoit une erreur car a n'est pas encore défini\u001b[0m\u001b[0;34m\u001b[0m\u001b[0;34m\u001b[0m\u001b[0m\n\u001b[0m",
      "\u001b[0;31mNameError\u001b[0m: name 'a' is not defined"
     ]
    }
   ],
   "source": [
    "print(a) # Renvoit une erreur car a n'est pas encore défini"
   ]
  },
  {
   "cell_type": "markdown",
   "metadata": {},
   "source": [
    "L'ordinateur nous dit que `a` n'est pas défini. En effet, sans guillemet, l'ordinateur va chercher quand est-ce que nous avons créé un objet nommé `a`. Puisque nous ne l'avons pas fait, l'ordinateur nous dit qu'il ne connait pas cette variable.\n",
    "\n",
    "Corrigeons cette erreur en attribuant une valeur à a, le nombre 3 par exemple."
   ]
  },
  {
   "cell_type": "code",
   "execution_count": 5,
   "metadata": {},
   "outputs": [
    {
     "name": "stdout",
     "output_type": "stream",
     "text": [
      "3\n"
     ]
    }
   ],
   "source": [
    "a = 3\n",
    "print(a) # Affiche 3"
   ]
  },
  {
   "cell_type": "markdown",
   "metadata": {},
   "source": [
    "Maintenant que l'ordinateur connait `a`, il nous affiche sa valeur avec la fonction `print`.\n",
    "\n",
    "Nous pouvons attribuer plusieurs types d'objet aux variables:\n",
    "    - des nombres, entiers ou non: `1`, `2`, `3.5`, `-5`, ...\n",
    "    - du texte: `bonjour`, `Alexandre`, `Ceci est une chaine de caractères`, ... définie avec des `'`\n",
    "    - des booléens, i.e Vrai ou Faux: `True`, `False`\n",
    "    \n",
    "Ces types de données sont la base de la programmation."
   ]
  },
  {
   "cell_type": "code",
   "execution_count": 6,
   "metadata": {},
   "outputs": [
    {
     "name": "stdout",
     "output_type": "stream",
     "text": [
      "3 Je suis du texte 5 True\n"
     ]
    }
   ],
   "source": [
    "b = 'Je suis du texte'\n",
    "c = 5\n",
    "d = True\n",
    "print(a, b, c, d) # Affiche 3 Je suis du texte 5 True"
   ]
  },
  {
   "cell_type": "markdown",
   "metadata": {},
   "source": [
    "## 3. Premières opérations\n",
    "\n",
    "Nous avons vu les variables, et comment afficher leur valeur. Nous allons maintenant voir comment modifier ces valeurs.\n",
    "\n",
    "Tout d'abord, il faut savoir que python peut servir de calculatrice:"
   ]
  },
  {
   "cell_type": "code",
   "execution_count": 7,
   "metadata": {},
   "outputs": [
    {
     "data": {
      "text/plain": [
       "-185.0"
      ]
     },
     "execution_count": 7,
     "metadata": {},
     "output_type": "execute_result"
    }
   ],
   "source": [
    "(3 + 5 - 18) * 37 / 2 # = -185"
   ]
  },
  {
   "cell_type": "markdown",
   "metadata": {},
   "source": [
    "En effet, python implémente par défault les symboles courants: `+`, `-`, `*` (multiplication), `/` (division).\n",
    "\n",
    "Pour le texte, python connait juste `+`, qui est la concaténation:"
   ]
  },
  {
   "cell_type": "code",
   "execution_count": 8,
   "metadata": {},
   "outputs": [
    {
     "name": "stdout",
     "output_type": "stream",
     "text": [
      "Bonjour Alexandre\n"
     ]
    }
   ],
   "source": [
    "print('Bonjour ' + 'Alexandre') # = Bonjour Alexandre"
   ]
  },
  {
   "cell_type": "markdown",
   "metadata": {},
   "source": [
    "Mais toutes les opérations n'ont pas forcément du sens pour tous les types de données"
   ]
  },
  {
   "cell_type": "code",
   "execution_count": 4,
   "metadata": {},
   "outputs": [
    {
     "ename": "TypeError",
     "evalue": "unsupported operand type(s) for -: 'str' and 'str'",
     "output_type": "error",
     "traceback": [
      "\u001b[0;31m---------------------------------------------------------------------------\u001b[0m",
      "\u001b[0;31mTypeError\u001b[0m                                 Traceback (most recent call last)",
      "\u001b[0;32m<ipython-input-4-cd7d6ab179f8>\u001b[0m in \u001b[0;36m<module>\u001b[0;34m\u001b[0m\n\u001b[0;32m----> 1\u001b[0;31m \u001b[0;34m'Bonjour '\u001b[0m \u001b[0;34m-\u001b[0m \u001b[0;34m'Alexandre'\u001b[0m\u001b[0;34m\u001b[0m\u001b[0;34m\u001b[0m\u001b[0m\n\u001b[0m",
      "\u001b[0;31mTypeError\u001b[0m: unsupported operand type(s) for -: 'str' and 'str'"
     ]
    }
   ],
   "source": [
    "'Bonjour ' - 'Alexandre'"
   ]
  },
  {
   "cell_type": "markdown",
   "metadata": {},
   "source": [
    "Enfin, pour les booléens, python connait le ET logique, `and`, ainsi que le OU `or`:"
   ]
  },
  {
   "cell_type": "code",
   "execution_count": 9,
   "metadata": {},
   "outputs": [
    {
     "name": "stdout",
     "output_type": "stream",
     "text": [
      "True\n",
      "False\n",
      "False\n",
      "True\n",
      "True\n",
      "False\n"
     ]
    }
   ],
   "source": [
    "print(True and True) # True\n",
    "print(True and False) # False\n",
    "print(False and False) # False\n",
    "print(True or True) # True\n",
    "print(True or False) # True\n",
    "print(False or False) # False"
   ]
  },
  {
   "cell_type": "markdown",
   "metadata": {},
   "source": [
    "Maintenant, nous pouvons jouer à modifier la valeur de variables, à attribuer la valeur d'une variable à une autre, ..."
   ]
  },
  {
   "cell_type": "code",
   "execution_count": 10,
   "metadata": {},
   "outputs": [
    {
     "name": "stdout",
     "output_type": "stream",
     "text": [
      "27\n"
     ]
    }
   ],
   "source": [
    "a = 5\n",
    "b = a + 7 # 12\n",
    "c = b - 2 # 10\n",
    "print(a + b + c) # 27"
   ]
  },
  {
   "cell_type": "markdown",
   "metadata": {},
   "source": [
    "Petite subtilité: on attribue de façon statique les données aux variables. Changer `a` dans l'exemple du dessus ne modifie pas les valeurs de `b` et `c` dynamiquement."
   ]
  },
  {
   "cell_type": "code",
   "execution_count": 11,
   "metadata": {},
   "outputs": [
    {
     "name": "stdout",
     "output_type": "stream",
     "text": [
      "5\n"
     ]
    }
   ],
   "source": [
    "a = 5\n",
    "b = a\n",
    "a = 7 # b vaut toujours 5\n",
    "print(b)"
   ]
  },
  {
   "cell_type": "markdown",
   "metadata": {},
   "source": [
    "Attention, cela n'est pas toujours vrai en python ! Nous le rencontrerons plus tard, mais un bon principe de base est de se dire que les types de données \"simples\" (les entiers et décimaux, les booléens, les strings...) ne modifient pas les résultats des opérations dans lesquelles ils sont impliqués lorsqu'ils sont modifiés ; mais c'est le cas des données plus complexes, que nous décrivrirons bientôt (listes, dictionnaires...)"
   ]
  },
  {
   "cell_type": "markdown",
   "metadata": {},
   "source": [
    "## 4. Les conditions\n",
    "\n",
    "Dans de nombreux cas, on voudra faire des opérations différentes selon la valeur d'une variable. Par exemple, nous pouvons demander l'âge de l'utilisateur et lui dire si il est majeur ou non. Cela s'effectue avec les instructions `if` et `else`.\n",
    "\n",
    "En pseudo code, ce programme s'écrit:\n",
    "\n",
    "``` Si l'age est supérieur ou égal à 18 alors affiche 'Vous êtes majeur' sinon affiche 'vous êtes mineur'```.\n",
    "\n",
    "En code:"
   ]
  },
  {
   "cell_type": "code",
   "execution_count": 5,
   "metadata": {},
   "outputs": [
    {
     "name": "stdout",
     "output_type": "stream",
     "text": [
      "Vous êtes mineur.\n"
     ]
    }
   ],
   "source": [
    "age = 17 # Définir l'âge pour ne pas avoir d'erreur\n",
    "\n",
    "if age >= 18: # if correspond à si, les : correspondent à alors\n",
    "    print('Vous êtes majeur.')\n",
    "else: # else correspond à sinon. Attention, il y a encore :\n",
    "    print('Vous êtes mineur.')"
   ]
  },
  {
   "cell_type": "markdown",
   "metadata": {},
   "source": [
    "Attention, tout est important dans ce code, les `:` comme les indentations.\n",
    "\n",
    "De manière générale, une condition s'écrit comme suit:\n",
    "\n",
    "```python\n",
    "if condition:\n",
    "    commande1\n",
    "else:\n",
    "    commande2\n",
    "```\n",
    "\n",
    "Si la condition est vraie, la commande 1 sera exécuté. Si la condition est fausse, c'est la commande 2 qui sera exécuté. Les indentations permettent à savoir où s'arrètent les conditions. Par exemple:\n",
    "\n",
    "```python\n",
    "if condition:\n",
    "    commande1\n",
    "else:\n",
    "    commande2\n",
    "commande3\n",
    "```\n",
    "\n",
    "Dans ce programme, que la condition soit vraie ou fausse, la commande 3 sera exécutée. Par contre, dans ce programme:\n",
    "```python\n",
    "if condition:\n",
    "    commande1\n",
    "else:\n",
    "    commande2\n",
    "    commande3\n",
    "```\n",
    "la commande 3 sera exécutée uniquement si la condition est fausse."
   ]
  },
  {
   "cell_type": "markdown",
   "metadata": {},
   "source": [
    "Enfin, il se peut que vous vouliez tester plus que 2 cas. Dans ce cas là, vous aurez besoin de `elif`:"
   ]
  },
  {
   "cell_type": "code",
   "execution_count": 13,
   "metadata": {},
   "outputs": [
    {
     "name": "stdout",
     "output_type": "stream",
     "text": [
      "Vous venez d'être majeur, félicitations !\n"
     ]
    }
   ],
   "source": [
    "age = 18\n",
    "\n",
    "if age > 18: # if correspond à si, les : correspondent à alors\n",
    "    print('Vous êtes majeur.')\n",
    "elif age == 18: # elif correspond à sinon si\n",
    "    print(\"Vous venez d'être majeur, félicitations !\")\n",
    "else: # else correspond à sinon. Attention, il y a encore :\n",
    "    print('Vous êtes mineur.')"
   ]
  },
  {
   "cell_type": "markdown",
   "metadata": {},
   "source": [
    "## 5. Index de symboles et de commandes"
   ]
  },
  {
   "cell_type": "markdown",
   "metadata": {},
   "source": [
    "### Pour les nombres\n",
    "- +, -, *, / pour ajouter, soustraire, multiplier, diviser\n",
    "- // pour le quotient de la division euclidienne (division entière)\n",
    "- % pour le reste de la division euclidienne (modulo)\n",
    "- <, >, <=, >= correspondent à plus petit, plus grand, plus petit ou égal, plus grand ou égal\n",
    "- == pour comparer l'égalité de deux nombres\n",
    "- != pour différent\n",
    "\n",
    "### Pour les chaines de caractères\n",
    "- \\+ pour la concaténation\n",
    "- ==, != pour l'égalité ou la différence\n",
    "- <, >, <=, >= comparent des chaines de caractères par order lexico-graphique (celui du dictionnaire)\n",
    "\n",
    "### Pour les booléens\n",
    "- and et or pour le ET et le OU logique"
   ]
  },
  {
   "cell_type": "code",
   "execution_count": null,
   "metadata": {},
   "outputs": [],
   "source": []
  },
  {
   "cell_type": "code",
   "execution_count": null,
   "metadata": {},
   "outputs": [],
   "source": [
    "|"
   ]
  }
 ],
 "metadata": {
  "kernelspec": {
   "display_name": "Python 3",
   "language": "python",
   "name": "python3"
  },
  "language_info": {
   "codemirror_mode": {
    "name": "ipython",
    "version": 3
   },
   "file_extension": ".py",
   "mimetype": "text/x-python",
   "name": "python",
   "nbconvert_exporter": "python",
   "pygments_lexer": "ipython3",
   "version": "3.8.6"
  }
 },
 "nbformat": 4,
 "nbformat_minor": 2
}
