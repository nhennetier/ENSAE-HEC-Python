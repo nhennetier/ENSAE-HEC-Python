{
 "cells": [
  {
   "cell_type": "markdown",
   "metadata": {},
   "source": [
    "# Cours 4: fonction et récursion (suite)\n",
    "\n",
    "**objectif**: nous allons continuer à étudier le principe des fonctions, et voir le principe de récursion."
   ]
  },
  {
   "cell_type": "markdown",
   "metadata": {},
   "source": [
    "## 1. Rappel\n",
    "\n",
    "Une fonction se définit avec le mot clef `def` suivi du nom de la fonction, des arguments et de deux points. Toutes les instructions sont indentées, i.e. précédées de quatre espaces. Si la fonction doit retourner un résultat, on utilise le mot clef `return`.\n",
    "\n",
    "```python\n",
    "def function(arg1, arg2):\n",
    "    commande1\n",
    "    commande2\n",
    "    return result\n",
    "```\n",
    "\n",
    "L'utilité des fonctions est de clarifier le code en évitant les copier coller de code. En effet, en une fois une fonction définie, on peut appeler celle ci avec des arguments différents à chaque fois. Par exemple, `print` est une fonction qui affiche à l'écran ce qu'on lui passe en argument."
   ]
  },
  {
   "cell_type": "markdown",
   "metadata": {},
   "source": [
    "## 2. La portée des variables\n",
    "\n",
    "Attention: toutes les variables définies dans le corps d'une fonction n'existent que dans celui-ci. Prenons un exemple:"
   ]
  },
  {
   "cell_type": "code",
   "execution_count": 1,
   "metadata": {},
   "outputs": [],
   "source": [
    "def create_y():\n",
    "    y = 'Je suis y'"
   ]
  },
  {
   "cell_type": "markdown",
   "metadata": {},
   "source": [
    "Ici, y n'existe pas. En effet, si on appelle cette fonction, puis que l'on affiche y, on va avoir une erreur."
   ]
  },
  {
   "cell_type": "code",
   "execution_count": 2,
   "metadata": {},
   "outputs": [
    {
     "ename": "NameError",
     "evalue": "name 'y' is not defined",
     "output_type": "error",
     "traceback": [
      "\u001b[0;31m---------------------------------------------------------------------------\u001b[0m",
      "\u001b[0;31mNameError\u001b[0m                                 Traceback (most recent call last)",
      "\u001b[0;32m<ipython-input-2-4cf7a2b654b8>\u001b[0m in \u001b[0;36m<module>\u001b[0;34m\u001b[0m\n\u001b[1;32m      1\u001b[0m \u001b[0mcreate_y\u001b[0m\u001b[0;34m(\u001b[0m\u001b[0;34m)\u001b[0m\u001b[0;34m\u001b[0m\u001b[0;34m\u001b[0m\u001b[0m\n\u001b[0;32m----> 2\u001b[0;31m \u001b[0mprint\u001b[0m\u001b[0;34m(\u001b[0m\u001b[0my\u001b[0m\u001b[0;34m)\u001b[0m\u001b[0;34m\u001b[0m\u001b[0;34m\u001b[0m\u001b[0m\n\u001b[0m",
      "\u001b[0;31mNameError\u001b[0m: name 'y' is not defined"
     ]
    }
   ],
   "source": [
    "create_y()\n",
    "print(y)"
   ]
  },
  {
   "cell_type": "markdown",
   "metadata": {},
   "source": [
    "Si vous voulez avoir accès à une variable créée dans une fonction, elle doit être dans le return. Lors de l'appel, vous devez alors attribuer le résultat à une variable:"
   ]
  },
  {
   "cell_type": "code",
   "execution_count": 3,
   "metadata": {},
   "outputs": [
    {
     "name": "stdout",
     "output_type": "stream",
     "text": [
      "Je suis y\n"
     ]
    }
   ],
   "source": [
    "def create_y():\n",
    "    y = 'Je suis y'\n",
    "    return y\n",
    "\n",
    "x = create_y()\n",
    "print(x)"
   ]
  },
  {
   "cell_type": "markdown",
   "metadata": {},
   "source": [
    "Vous pouvez définir des variables en dehors d'une fonction et accéder à leur valeur à l'intérieur de celle-ci. Par contre, vous ne pourrez pas en modifier la valeur !"
   ]
  },
  {
   "cell_type": "code",
   "execution_count": 4,
   "metadata": {},
   "outputs": [
    {
     "name": "stdout",
     "output_type": "stream",
     "text": [
      "12\n"
     ]
    },
    {
     "ename": "UnboundLocalError",
     "evalue": "local variable 'x' referenced before assignment",
     "output_type": "error",
     "traceback": [
      "\u001b[0;31m---------------------------------------------------------------------------\u001b[0m",
      "\u001b[0;31mUnboundLocalError\u001b[0m                         Traceback (most recent call last)",
      "\u001b[0;32m<ipython-input-4-cb6ec9f39bdb>\u001b[0m in \u001b[0;36m<module>\u001b[0;34m\u001b[0m\n\u001b[1;32m      7\u001b[0m     \u001b[0;32mreturn\u001b[0m \u001b[0mx\u001b[0m\u001b[0;34m\u001b[0m\u001b[0;34m\u001b[0m\u001b[0m\n\u001b[1;32m      8\u001b[0m \u001b[0;34m\u001b[0m\u001b[0m\n\u001b[0;32m----> 9\u001b[0;31m \u001b[0mx\u001b[0m \u001b[0;34m=\u001b[0m \u001b[0mmodify_x\u001b[0m\u001b[0;34m(\u001b[0m\u001b[0;34m)\u001b[0m\u001b[0;34m\u001b[0m\u001b[0;34m\u001b[0m\u001b[0m\n\u001b[0m",
      "\u001b[0;32m<ipython-input-4-cb6ec9f39bdb>\u001b[0m in \u001b[0;36mmodify_x\u001b[0;34m()\u001b[0m\n\u001b[1;32m      4\u001b[0m \u001b[0;32mdef\u001b[0m \u001b[0mmodify_x\u001b[0m\u001b[0;34m(\u001b[0m\u001b[0;34m)\u001b[0m\u001b[0;34m:\u001b[0m\u001b[0;34m\u001b[0m\u001b[0;34m\u001b[0m\u001b[0m\n\u001b[1;32m      5\u001b[0m     \u001b[0mprint\u001b[0m\u001b[0;34m(\u001b[0m\u001b[0my\u001b[0m\u001b[0;34m)\u001b[0m\u001b[0;34m\u001b[0m\u001b[0;34m\u001b[0m\u001b[0m\n\u001b[0;32m----> 6\u001b[0;31m     \u001b[0mx\u001b[0m \u001b[0;34m+=\u001b[0m \u001b[0;36m5\u001b[0m\u001b[0;34m\u001b[0m\u001b[0;34m\u001b[0m\u001b[0m\n\u001b[0m\u001b[1;32m      7\u001b[0m     \u001b[0;32mreturn\u001b[0m \u001b[0mx\u001b[0m\u001b[0;34m\u001b[0m\u001b[0;34m\u001b[0m\u001b[0m\n\u001b[1;32m      8\u001b[0m \u001b[0;34m\u001b[0m\u001b[0m\n",
      "\u001b[0;31mUnboundLocalError\u001b[0m: local variable 'x' referenced before assignment"
     ]
    }
   ],
   "source": [
    "x = 10\n",
    "y = 12\n",
    "\n",
    "def modify_x():\n",
    "    print(y)\n",
    "    x += 5\n",
    "    return x\n",
    "\n",
    "x = modify_x()"
   ]
  },
  {
   "cell_type": "markdown",
   "metadata": {},
   "source": [
    "Mais cela siginifie aussi que vous pouvez utiliser sans risque des noms de variables déjà utilisés:"
   ]
  },
  {
   "cell_type": "code",
   "execution_count": 5,
   "metadata": {},
   "outputs": [
    {
     "name": "stdout",
     "output_type": "stream",
     "text": [
      "5\n"
     ]
    }
   ],
   "source": [
    "x = 5\n",
    "\n",
    "def create_x():\n",
    "    x = 'Je suis x'\n",
    "    return x\n",
    "\n",
    "y = create_x()\n",
    "print(x)"
   ]
  },
  {
   "cell_type": "markdown",
   "metadata": {},
   "source": [
    "Il en va de même pour les arguments. Ceux ci ont une existance uniquement dans le corps de la fonction, et ils n'ont aucun rapport avec des variables du même nom définit en dehors de celle-ci."
   ]
  },
  {
   "cell_type": "code",
   "execution_count": 6,
   "metadata": {},
   "outputs": [
    {
     "name": "stdout",
     "output_type": "stream",
     "text": [
      "1 + 2\n",
      "5\n"
     ]
    }
   ],
   "source": [
    "x = 5\n",
    "\n",
    "def concatenate_string(x, y):\n",
    "    if x == 5:\n",
    "        print('Je ne vais pas être affiché')\n",
    "    return x + ' + ' + y\n",
    "\n",
    "print(concatenate_string('1', '2'))\n",
    "print(x)"
   ]
  },
  {
   "cell_type": "markdown",
   "metadata": {},
   "source": [
    "## 3. Un exemple de récursion\n",
    "\n",
    "Il existe 2 types de fonctions: les fonctions itératives et les fonctions récursives.\n",
    "\n",
    "Une fonction récursive est une fonction qui fait appel à elle même. Cela peut paraître étrange, mais si elle est bien définie, elle peut être plus compréhensible qu'une fonction itérative.\n",
    "\n",
    "Il faut faire très attention en écrivant des fonctions récursives. Celles-ci peuvent conduire à des boucles infinies, et donc saturer la mémoire de l'ordinateur.\n",
    "\n",
    "Prenons pour exemple la recherche d'un élément dans une liste. La version itérative de cette fonction est très simple:"
   ]
  },
  {
   "cell_type": "code",
   "execution_count": 7,
   "metadata": {},
   "outputs": [],
   "source": [
    "def in_iterative(l, x):\n",
    "    for elem in l:\n",
    "        if elem == x:\n",
    "            return True\n",
    "    return False"
   ]
  },
  {
   "cell_type": "markdown",
   "metadata": {},
   "source": [
    "On peut remplacer cette boucle `for` par de la récursion:"
   ]
  },
  {
   "cell_type": "code",
   "execution_count": 8,
   "metadata": {},
   "outputs": [],
   "source": [
    "def in_recursive(l, x):\n",
    "    if l == []:\n",
    "        return False\n",
    "    return x == l[0] or in_recursive(l[1:], x)"
   ]
  },
  {
   "cell_type": "markdown",
   "metadata": {},
   "source": [
    "Dans cette seconde version, on test si le premier élément de l est x ou si x est dans la suite de l.\n",
    "Pour s'assurer que la fonction termine, on vérifie d'abord que l n'est pas vide.\n",
    "\n",
    "Affichons les différents appels récursifs lors d'un appel à cette fonction."
   ]
  },
  {
   "cell_type": "code",
   "execution_count": 9,
   "metadata": {},
   "outputs": [],
   "source": [
    "def in_recursive(l, x):\n",
    "    print(f\"I'm called with l={l} and x={x}.\")\n",
    "    if l == []:\n",
    "        return False\n",
    "    return x == l[0] or in_recursive(l[1:], x)"
   ]
  },
  {
   "cell_type": "code",
   "execution_count": 10,
   "metadata": {},
   "outputs": [
    {
     "name": "stdout",
     "output_type": "stream",
     "text": [
      "I'm called with l=[0, 1, 2, 3, 4, 5, 6, 7, 8, 9] and x=7.\n",
      "I'm called with l=[1, 2, 3, 4, 5, 6, 7, 8, 9] and x=7.\n",
      "I'm called with l=[2, 3, 4, 5, 6, 7, 8, 9] and x=7.\n",
      "I'm called with l=[3, 4, 5, 6, 7, 8, 9] and x=7.\n",
      "I'm called with l=[4, 5, 6, 7, 8, 9] and x=7.\n",
      "I'm called with l=[5, 6, 7, 8, 9] and x=7.\n",
      "I'm called with l=[6, 7, 8, 9] and x=7.\n",
      "I'm called with l=[7, 8, 9] and x=7.\n",
      "True\n"
     ]
    }
   ],
   "source": [
    "l = list(range(10))\n",
    "x = 7\n",
    "print(in_recursive(l, x))"
   ]
  },
  {
   "cell_type": "markdown",
   "metadata": {},
   "source": [
    "Nous pouvons voir que l diminue à chaque appel, et que l'éxécution s'arrète dés que x a été trouvé. Le check de la liste vide permet de gérer le cas où x n'est pas dans la liste:"
   ]
  },
  {
   "cell_type": "code",
   "execution_count": 11,
   "metadata": {},
   "outputs": [
    {
     "name": "stdout",
     "output_type": "stream",
     "text": [
      "I'm called with l=[0, 1, 2, 3, 4] and x=7.\n",
      "I'm called with l=[1, 2, 3, 4] and x=7.\n",
      "I'm called with l=[2, 3, 4] and x=7.\n",
      "I'm called with l=[3, 4] and x=7.\n",
      "I'm called with l=[4] and x=7.\n",
      "I'm called with l=[] and x=7.\n",
      "False\n"
     ]
    }
   ],
   "source": [
    "l = list(range(5))\n",
    "x = 7\n",
    "print(in_recursive(l, x))"
   ]
  },
  {
   "cell_type": "markdown",
   "metadata": {},
   "source": [
    "## 4. Généralisation de la récursion\n",
    "\n",
    "On peut séparer une fonction récursive en 2 étapes. \n",
    "\n",
    "Tout d'abord, les cas où l'on ne veut pas de récursion. Ce sont les cas de bases, et sans eux, la fonction récursive mêne au mieux à une erreur, au pire à une récursion infine. C'était le check de la liste vide dans l'exemple précédent.\n",
    "\n",
    "Ensuite, le traitement des autres cas. Ceux-ci vont faire appel à la même fonction, avec des arguments différents. Pour que la fonction récursive fonctionne, il faut que les arguments de l'appel récursif soit plus proche des cas de base que les arguments initiaux.\n",
    "\n",
    "Je m'explique: dans l'exemple précédent, le cas de base était la liste vide, i.e. la liste de longueur 0. Lorsqu'un appel récursif est fait, la liste passée en argument est plus petite que la liste initiale. Par conséquent, on va, à un moment ou à un autre, arriver sur le cas de base, et donc on ne peut pas se retrouver dans une récursion infinie.\n",
    "\n",
    "Pour expliquer cela autrement, il faut que, selon un critère à choisir, les appels récursifs soient moins complexes que leurs parents, et que les cas plus simples soient traités en itératif. Ce critère peut être la longueur d'une liste, le valeur d'un entier, la taille d'un dictionnaire...\n",
    "\n",
    "Récapitulons:\n",
    "\n",
    "```python\n",
    "def recursive_fonction(args):\n",
    "    # traitement des cas de base\n",
    "    if ...:\n",
    "        return\n",
    "    \n",
    "    # traitement des autres cas\n",
    "    ...\n",
    "    recursive_fonction(args_bis)\n",
    "    ...\n",
    "    return\n",
    "```"
   ]
  },
  {
   "cell_type": "markdown",
   "metadata": {},
   "source": [
    "## 5. Équivalence récursion - itération\n",
    "\n",
    "La plupart des fonctions récursives ont une version itérative. Pour cela, il faut souvent remplacer la récursion par:\n",
    "\n",
    "```python\n",
    "while not(cas de base):\n",
    "    do something\n",
    "```\n",
    "\n",
    "Néanmoins, la version récursive peut être nettement plus compréhensive dans certains cas. Prenons par exemple la recherche dichotomique, i.e. la recherche dans le cas d'une liste triée."
   ]
  },
  {
   "cell_type": "code",
   "execution_count": 12,
   "metadata": {},
   "outputs": [
    {
     "data": {
      "text/plain": [
       "True"
      ]
     },
     "execution_count": 12,
     "metadata": {},
     "output_type": "execute_result"
    }
   ],
   "source": [
    "def dichotomie_rec(l, x):\n",
    "    if l == []:\n",
    "        return False\n",
    "    mid = len(l) // 2\n",
    "    \n",
    "    if l[mid] == x:\n",
    "        return True\n",
    "    elif l[mid] > x:\n",
    "        return dichotomie_rec(l[:mid], x)\n",
    "    else:\n",
    "        return dichotomie_rec(l[mid + 1:], x)\n",
    "    \n",
    "dichotomie_rec(list(range(100)), 5)"
   ]
  },
  {
   "cell_type": "markdown",
   "metadata": {},
   "source": [
    "La version récursive est facile à comprendre: on prend le milieu de la liste, on le compare à x, et on cherche dans la moitié de liste appropriée. Voici une version itérative:"
   ]
  },
  {
   "cell_type": "code",
   "execution_count": 13,
   "metadata": {},
   "outputs": [
    {
     "data": {
      "text/plain": [
       "True"
      ]
     },
     "execution_count": 13,
     "metadata": {},
     "output_type": "execute_result"
    }
   ],
   "source": [
    "def dichotomie_it(l, x):\n",
    "    start = 0\n",
    "    end = len(l)\n",
    "    while start < end:\n",
    "        mid = (start + end) // 2\n",
    "        if l[mid] == x:\n",
    "            return True\n",
    "        elif l[mid] > x:\n",
    "            end = mid - 1\n",
    "        else:\n",
    "            start = mid + 1\n",
    "    return False\n",
    "\n",
    "dichotomie_rec(list(range(100)), 7)"
   ]
  },
  {
   "cell_type": "markdown",
   "metadata": {},
   "source": [
    "Pour compenser la récursion, il faut suivre la partie de liste que l'on est en train de traiter, avec les variables `start` et `end`"
   ]
  }
 ],
 "metadata": {
  "kernelspec": {
   "display_name": "Python 3",
   "language": "python",
   "name": "python3"
  },
  "language_info": {
   "codemirror_mode": {
    "name": "ipython",
    "version": 3
   },
   "file_extension": ".py",
   "mimetype": "text/x-python",
   "name": "python",
   "nbconvert_exporter": "python",
   "pygments_lexer": "ipython3",
   "version": "3.8.6"
  }
 },
 "nbformat": 4,
 "nbformat_minor": 2
}
